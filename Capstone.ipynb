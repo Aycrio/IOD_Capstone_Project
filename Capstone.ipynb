{
 "cells": [
  {
   "cell_type": "code",
   "execution_count": 1,
   "id": "5551b77f",
   "metadata": {},
   "outputs": [],
   "source": [
    "import pandas as pd\n",
    "from sklearn.model_selection import train_test_split\n",
    "import numpy as np\n",
    "import nltk\n",
    "from nltk.tokenize import word_tokenize\n",
    "from nltk.stem import WordNetLemmatizer \n",
    "import re\n",
    "import matplotlib.pyplot as plt"
   ]
  },
  {
   "cell_type": "code",
   "execution_count": 2,
   "id": "6fbb0163",
   "metadata": {},
   "outputs": [],
   "source": [
    "import torch"
   ]
  },
  {
   "cell_type": "code",
   "execution_count": 3,
   "id": "a471019d",
   "metadata": {},
   "outputs": [
    {
     "data": {
      "text/plain": [
       "False"
      ]
     },
     "execution_count": 3,
     "metadata": {},
     "output_type": "execute_result"
    }
   ],
   "source": [
    "torch.cuda.is_available()"
   ]
  },
  {
   "cell_type": "code",
   "execution_count": 4,
   "id": "82a5e2a5",
   "metadata": {},
   "outputs": [],
   "source": [
    "import torch.multiprocessing as mp\n",
    "\n",
    "if not mp.get_start_method(allow_none=True):\n",
    "    mp.set_start_method('spawn')"
   ]
  },
  {
   "cell_type": "code",
   "execution_count": 5,
   "id": "5e3d77fa",
   "metadata": {},
   "outputs": [],
   "source": [
    "df = pd.read_csv(\"recipe_gathered.csv\")"
   ]
  },
  {
   "cell_type": "code",
   "execution_count": 6,
   "id": "b7c16587",
   "metadata": {},
   "outputs": [],
   "source": [
    "df = df.drop('source', axis=1)"
   ]
  },
  {
   "cell_type": "code",
   "execution_count": 7,
   "id": "d15fbd9c",
   "metadata": {},
   "outputs": [
    {
     "data": {
      "text/html": [
       "<div>\n",
       "<style scoped>\n",
       "    .dataframe tbody tr th:only-of-type {\n",
       "        vertical-align: middle;\n",
       "    }\n",
       "\n",
       "    .dataframe tbody tr th {\n",
       "        vertical-align: top;\n",
       "    }\n",
       "\n",
       "    .dataframe thead th {\n",
       "        text-align: right;\n",
       "    }\n",
       "</style>\n",
       "<table border=\"1\" class=\"dataframe\">\n",
       "  <thead>\n",
       "    <tr style=\"text-align: right;\">\n",
       "      <th></th>\n",
       "      <th>title</th>\n",
       "      <th>ingredients</th>\n",
       "      <th>directions</th>\n",
       "      <th>NER</th>\n",
       "    </tr>\n",
       "  </thead>\n",
       "  <tbody>\n",
       "    <tr>\n",
       "      <th>0</th>\n",
       "      <td>No-Bake Nut Cookies</td>\n",
       "      <td>[\"1 c. firmly packed brown sugar\", \"1/2 c. eva...</td>\n",
       "      <td>[\"In a heavy 2-quart saucepan, mix brown sugar...</td>\n",
       "      <td>[\"brown sugar\", \"milk\", \"vanilla\", \"nuts\", \"bu...</td>\n",
       "    </tr>\n",
       "    <tr>\n",
       "      <th>1</th>\n",
       "      <td>Jewell Ball'S Chicken</td>\n",
       "      <td>[\"1 small jar chipped beef, cut up\", \"4 boned ...</td>\n",
       "      <td>[\"Place chipped beef on bottom of baking dish....</td>\n",
       "      <td>[\"beef\", \"chicken breasts\", \"cream of mushroom...</td>\n",
       "    </tr>\n",
       "    <tr>\n",
       "      <th>2</th>\n",
       "      <td>Creamy Corn</td>\n",
       "      <td>[\"2 (16 oz.) pkg. frozen corn\", \"1 (8 oz.) pkg...</td>\n",
       "      <td>[\"In a slow cooker, combine all ingredients. C...</td>\n",
       "      <td>[\"frozen corn\", \"cream cheese\", \"butter\", \"gar...</td>\n",
       "    </tr>\n",
       "    <tr>\n",
       "      <th>3</th>\n",
       "      <td>Chicken Funny</td>\n",
       "      <td>[\"1 large whole chicken\", \"2 (10 1/2 oz.) cans...</td>\n",
       "      <td>[\"Boil and debone chicken.\", \"Put bite size pi...</td>\n",
       "      <td>[\"chicken\", \"chicken gravy\", \"cream of mushroo...</td>\n",
       "    </tr>\n",
       "    <tr>\n",
       "      <th>4</th>\n",
       "      <td>Reeses Cups(Candy)</td>\n",
       "      <td>[\"1 c. peanut butter\", \"3/4 c. graham cracker ...</td>\n",
       "      <td>[\"Combine first four ingredients and press in ...</td>\n",
       "      <td>[\"peanut butter\", \"graham cracker crumbs\", \"bu...</td>\n",
       "    </tr>\n",
       "  </tbody>\n",
       "</table>\n",
       "</div>"
      ],
      "text/plain": [
       "                   title                                        ingredients  \\\n",
       "0    No-Bake Nut Cookies  [\"1 c. firmly packed brown sugar\", \"1/2 c. eva...   \n",
       "1  Jewell Ball'S Chicken  [\"1 small jar chipped beef, cut up\", \"4 boned ...   \n",
       "2            Creamy Corn  [\"2 (16 oz.) pkg. frozen corn\", \"1 (8 oz.) pkg...   \n",
       "3          Chicken Funny  [\"1 large whole chicken\", \"2 (10 1/2 oz.) cans...   \n",
       "4   Reeses Cups(Candy)    [\"1 c. peanut butter\", \"3/4 c. graham cracker ...   \n",
       "\n",
       "                                          directions  \\\n",
       "0  [\"In a heavy 2-quart saucepan, mix brown sugar...   \n",
       "1  [\"Place chipped beef on bottom of baking dish....   \n",
       "2  [\"In a slow cooker, combine all ingredients. C...   \n",
       "3  [\"Boil and debone chicken.\", \"Put bite size pi...   \n",
       "4  [\"Combine first four ingredients and press in ...   \n",
       "\n",
       "                                                 NER  \n",
       "0  [\"brown sugar\", \"milk\", \"vanilla\", \"nuts\", \"bu...  \n",
       "1  [\"beef\", \"chicken breasts\", \"cream of mushroom...  \n",
       "2  [\"frozen corn\", \"cream cheese\", \"butter\", \"gar...  \n",
       "3  [\"chicken\", \"chicken gravy\", \"cream of mushroo...  \n",
       "4  [\"peanut butter\", \"graham cracker crumbs\", \"bu...  "
      ]
     },
     "execution_count": 7,
     "metadata": {},
     "output_type": "execute_result"
    }
   ],
   "source": [
    "df.head()"
   ]
  },
  {
   "cell_type": "code",
   "execution_count": 8,
   "id": "d7abebcc",
   "metadata": {},
   "outputs": [
    {
     "data": {
      "text/plain": [
       "(2231142, 4)"
      ]
     },
     "execution_count": 8,
     "metadata": {},
     "output_type": "execute_result"
    }
   ],
   "source": [
    "df.shape"
   ]
  },
  {
   "cell_type": "code",
   "execution_count": 44,
   "id": "b9b4a545",
   "metadata": {},
   "outputs": [],
   "source": [
    "df_no_duplicates = df.drop_duplicates(subset='title', keep='first')"
   ]
  },
  {
   "cell_type": "code",
   "execution_count": 45,
   "id": "b4fdbf4c",
   "metadata": {},
   "outputs": [
    {
     "data": {
      "text/plain": [
       "(1312871, 4)"
      ]
     },
     "execution_count": 45,
     "metadata": {},
     "output_type": "execute_result"
    }
   ],
   "source": [
    "df_no_duplicates.shape"
   ]
  },
  {
   "cell_type": "markdown",
   "id": "bef970d5",
   "metadata": {},
   "source": [
    "## Cleaning Dataset"
   ]
  },
  {
   "cell_type": "code",
   "execution_count": 9,
   "id": "1967a091",
   "metadata": {},
   "outputs": [],
   "source": [
    "def find_problematic_row(df, column_name):\n",
    "    problematic_rows = []\n",
    "    for index, row in df.iterrows():\n",
    "        try:\n",
    "            eval(row[column_name])\n",
    "        except Exception as e:\n",
    "            problematic_rows.append((index, str(e)))\n",
    "    return problematic_rows\n",
    "# if cannot be iterrate, return row index\n",
    "problematic_rows = find_problematic_row(df, 'ingredients')\n"
   ]
  },
  {
   "cell_type": "code",
   "execution_count": 10,
   "id": "1d27afe2",
   "metadata": {},
   "outputs": [],
   "source": [
    "problematic_row_indices = [row[0] for row in problematic_rows]"
   ]
  },
  {
   "cell_type": "code",
   "execution_count": 11,
   "id": "37a4ee41",
   "metadata": {},
   "outputs": [],
   "source": [
    "def replace_inner_quotes_split_method(s):\n",
    "    # Split the string on commas to break it down into individual items\n",
    "    items = s[2:-2].split('\", \"') # slice based on the 3rd character and 3rd last character\n",
    "    # since they are \" and \"\n",
    "    # Apply the replacement on each item\n",
    "    items_modified = [item.replace('\"', ' inch') for item in items]\n",
    "    \n",
    "    # Rejoin the modified items into a single string\n",
    "    return '[\"' + '\", \"'.join(items_modified) + '\"]'\n",
    "\n",
    "\n",
    "df.loc[problematic_row_indices, 'ingredients'] = df.loc[problematic_row_indices, 'ingredients'].apply(replace_inner_quotes_split_method)"
   ]
  },
  {
   "cell_type": "markdown",
   "id": "8cfcbb7b",
   "metadata": {},
   "source": [
    "## Clean Up the steps\n",
    "\n",
    "    -Specify chicken as an ingredient as there the instructions for the finetuned model not as optimized"
   ]
  },
  {
   "cell_type": "code",
   "execution_count": 12,
   "id": "9ff2ecd4",
   "metadata": {},
   "outputs": [],
   "source": [
    "target_ingredients = [\"chicken\"]\n",
    "\n",
    "# Filter the DataFrame to include only recipes with the target ingredients\n",
    "df_chicken = df[df['NER'].apply(lambda x: any(ingredient in x for ingredient in target_ingredients))].copy().reset_index()"
   ]
  },
  {
   "cell_type": "code",
   "execution_count": 13,
   "id": "8d3de8eb",
   "metadata": {},
   "outputs": [],
   "source": [
    "df_chicken = df_chicken.drop('index', axis =1)"
   ]
  },
  {
   "cell_type": "code",
   "execution_count": 14,
   "id": "8f725eaa",
   "metadata": {},
   "outputs": [
    {
     "data": {
      "text/html": [
       "<div>\n",
       "<style scoped>\n",
       "    .dataframe tbody tr th:only-of-type {\n",
       "        vertical-align: middle;\n",
       "    }\n",
       "\n",
       "    .dataframe tbody tr th {\n",
       "        vertical-align: top;\n",
       "    }\n",
       "\n",
       "    .dataframe thead th {\n",
       "        text-align: right;\n",
       "    }\n",
       "</style>\n",
       "<table border=\"1\" class=\"dataframe\">\n",
       "  <thead>\n",
       "    <tr style=\"text-align: right;\">\n",
       "      <th></th>\n",
       "      <th>title</th>\n",
       "      <th>ingredients</th>\n",
       "      <th>directions</th>\n",
       "      <th>NER</th>\n",
       "    </tr>\n",
       "  </thead>\n",
       "  <tbody>\n",
       "    <tr>\n",
       "      <th>0</th>\n",
       "      <td>Jewell Ball'S Chicken</td>\n",
       "      <td>[\"1 small jar chipped beef, cut up\", \"4 boned ...</td>\n",
       "      <td>[\"Place chipped beef on bottom of baking dish....</td>\n",
       "      <td>[\"beef\", \"chicken breasts\", \"cream of mushroom...</td>\n",
       "    </tr>\n",
       "    <tr>\n",
       "      <th>1</th>\n",
       "      <td>Chicken Funny</td>\n",
       "      <td>[\"1 large whole chicken\", \"2 (10 1/2 oz.) cans...</td>\n",
       "      <td>[\"Boil and debone chicken.\", \"Put bite size pi...</td>\n",
       "      <td>[\"chicken\", \"chicken gravy\", \"cream of mushroo...</td>\n",
       "    </tr>\n",
       "    <tr>\n",
       "      <th>2</th>\n",
       "      <td>Quick Barbecue Wings</td>\n",
       "      <td>[\"chicken wings (as many as you need for dinne...</td>\n",
       "      <td>[\"Clean wings.\", \"Flour and fry until done.\", ...</td>\n",
       "      <td>[\"chicken\", \"flour\", \"barbecue sauce\"]</td>\n",
       "    </tr>\n",
       "    <tr>\n",
       "      <th>3</th>\n",
       "      <td>Summer Chicken</td>\n",
       "      <td>[\"1 pkg. chicken cutlets\", \"1/2 c. oil\", \"1/3 ...</td>\n",
       "      <td>[\"Double recipe for more chicken.\"]</td>\n",
       "      <td>[\"chicken cutlets\", \"oil\", \"red vinegar\", \"ore...</td>\n",
       "    </tr>\n",
       "    <tr>\n",
       "      <th>4</th>\n",
       "      <td>Chicken Stew</td>\n",
       "      <td>[\"3 lb. chicken, boiled\", \"4 medium potatoes, ...</td>\n",
       "      <td>[\"Remove chicken from bone.\", \"Use the broth.\"...</td>\n",
       "      <td>[\"chicken\", \"potatoes\", \"onions\", \"corn\", \"Eng...</td>\n",
       "    </tr>\n",
       "  </tbody>\n",
       "</table>\n",
       "</div>"
      ],
      "text/plain": [
       "                   title                                        ingredients  \\\n",
       "0  Jewell Ball'S Chicken  [\"1 small jar chipped beef, cut up\", \"4 boned ...   \n",
       "1          Chicken Funny  [\"1 large whole chicken\", \"2 (10 1/2 oz.) cans...   \n",
       "2   Quick Barbecue Wings  [\"chicken wings (as many as you need for dinne...   \n",
       "3         Summer Chicken  [\"1 pkg. chicken cutlets\", \"1/2 c. oil\", \"1/3 ...   \n",
       "4           Chicken Stew  [\"3 lb. chicken, boiled\", \"4 medium potatoes, ...   \n",
       "\n",
       "                                          directions  \\\n",
       "0  [\"Place chipped beef on bottom of baking dish....   \n",
       "1  [\"Boil and debone chicken.\", \"Put bite size pi...   \n",
       "2  [\"Clean wings.\", \"Flour and fry until done.\", ...   \n",
       "3                [\"Double recipe for more chicken.\"]   \n",
       "4  [\"Remove chicken from bone.\", \"Use the broth.\"...   \n",
       "\n",
       "                                                 NER  \n",
       "0  [\"beef\", \"chicken breasts\", \"cream of mushroom...  \n",
       "1  [\"chicken\", \"chicken gravy\", \"cream of mushroo...  \n",
       "2             [\"chicken\", \"flour\", \"barbecue sauce\"]  \n",
       "3  [\"chicken cutlets\", \"oil\", \"red vinegar\", \"ore...  \n",
       "4  [\"chicken\", \"potatoes\", \"onions\", \"corn\", \"Eng...  "
      ]
     },
     "execution_count": 14,
     "metadata": {},
     "output_type": "execute_result"
    }
   ],
   "source": [
    "df_chicken.head()"
   ]
  },
  {
   "cell_type": "code",
   "execution_count": 15,
   "id": "b3464516",
   "metadata": {},
   "outputs": [
    {
     "data": {
      "text/plain": [
       "(256375, 4)"
      ]
     },
     "execution_count": 15,
     "metadata": {},
     "output_type": "execute_result"
    }
   ],
   "source": [
    "df_chicken.shape"
   ]
  },
  {
   "cell_type": "markdown",
   "id": "96826c44",
   "metadata": {},
   "source": [
    "# EDA"
   ]
  },
  {
   "cell_type": "code",
   "execution_count": 16,
   "id": "6dcc6fd1",
   "metadata": {},
   "outputs": [
    {
     "data": {
      "image/png": "[encoded data removed]",
      "text/plain": [
       "<Figure size 1000x600 with 1 Axes>"
      ]
     },
     "metadata": {},
     "output_type": "display_data"
    }
   ],
   "source": [
    "# Calculate the number of ingredients for each recipe\n",
    "num_ingredients = df_chicken['ingredients'].apply(lambda x: len(eval(x)))\n",
    "\n",
    "# Plot the distribution of the number of ingredients\n",
    "plt.figure(figsize=(10, 6))\n",
    "plt.hist(num_ingredients, bins=100, color='lightgreen', edgecolor='black')\n",
    "#plt.title('Distribution of Number of Ingredients per Recipe')\n",
    "plt.xlabel('Number of Ingredients')\n",
    "plt.ylabel('Number of Recipes')\n",
    "plt.xlim(0, 30) \n",
    "plt.show()\n",
    "\n",
    "# majority of recipe contain 5 to 10 ingredients"
   ]
  },
  {
   "cell_type": "code",
   "execution_count": 17,
   "id": "dcfbd14f",
   "metadata": {},
   "outputs": [],
   "source": [
    "df_chicken_10000 = df_chicken.sample(10000, random_state=42).reset_index()\n",
    "df_chicken_10000 = df_chicken_10000.drop('index', axis =1)"
   ]
  },
  {
   "cell_type": "code",
   "execution_count": 56,
   "id": "f52fd634",
   "metadata": {},
   "outputs": [
    {
     "data": {
      "text/plain": [
       "(10000, 4)"
      ]
     },
     "execution_count": 56,
     "metadata": {},
     "output_type": "execute_result"
    }
   ],
   "source": [
    "df_chicken_10000.shape"
   ]
  },
  {
   "cell_type": "code",
   "execution_count": 18,
   "id": "740d22b5",
   "metadata": {},
   "outputs": [
    {
     "data": {
      "image/png": "[encoded data removed]",
      "text/plain": [
       "<Figure size 1000x600 with 1 Axes>"
      ]
     },
     "metadata": {},
     "output_type": "display_data"
    }
   ],
   "source": [
    "# Calculate the number of ingredients for each recipe\n",
    "num_ingredients = df_chicken_10000['ingredients'].apply(lambda x: len(eval(x)))\n",
    "\n",
    "# Plot the distribution of the number of ingredients\n",
    "plt.figure(figsize=(10, 6))\n",
    "plt.hist(num_ingredients, bins=100, color='lightgreen', edgecolor='black')\n",
    "#plt.title('Distribution of Number of Ingredients per Recipe')\n",
    "plt.xlabel('Number of Ingredients')\n",
    "plt.ylabel('Number of Recipes')\n",
    "plt.xlim(0, 30) \n",
    "plt.show()\n",
    "\n",
    "# majority of recipe contain 5 to 10 ingredients"
   ]
  },
  {
   "cell_type": "code",
   "execution_count": 19,
   "id": "c110a8e6",
   "metadata": {
    "scrolled": true
   },
   "outputs": [
    {
     "data": {
      "text/plain": [
       "[('salt', 4237),\n",
       " ('chicken', 3962),\n",
       " ('garlic', 3295),\n",
       " ('onion', 3237),\n",
       " ('chicken broth', 2550),\n",
       " ('butter', 2293),\n",
       " ('chicken breasts', 1912),\n",
       " ('olive oil', 1570),\n",
       " ('pepper', 1478),\n",
       " ('water', 1467),\n",
       " ('flour', 1344),\n",
       " ('celery', 1270),\n",
       " ('cream of chicken soup', 1251),\n",
       " ('milk', 1223),\n",
       " ('tomatoes', 1154),\n",
       " ('parsley', 873),\n",
       " ('soy sauce', 852),\n",
       " ('sour cream', 842),\n",
       " ('onions', 777),\n",
       " ('lemon juice', 769),\n",
       " ('thyme', 755),\n",
       " ('mushrooms', 714),\n",
       " ('carrots', 696),\n",
       " ('chicken stock', 696),\n",
       " ('rice', 668),\n",
       " ('vegetable oil', 598),\n",
       " ('paprika', 570),\n",
       " ('eggs', 562),\n",
       " ('white wine', 552),\n",
       " ('black pepper', 537),\n",
       " ('mayonnaise', 535),\n",
       " ('margarine', 530),\n",
       " ('cream of mushroom soup', 521),\n",
       " ('Salt', 511),\n",
       " ('sugar', 505),\n",
       " ('oregano', 480),\n",
       " ('potatoes', 465),\n",
       " ('cornstarch', 459),\n",
       " ('red pepper', 444),\n",
       " ('green onions', 442),\n",
       " ('oil', 439),\n",
       " ('Cheddar cheese', 391),\n",
       " ('carrot', 386),\n",
       " ('egg', 385),\n",
       " ('Parmesan cheese', 375),\n",
       " ('green pepper', 371),\n",
       " ('bacon', 366),\n",
       " ('ground cumin', 365),\n",
       " ('basil', 355),\n",
       " ('cheddar cheese', 350),\n",
       " ('clove garlic', 346),\n",
       " ('curry powder', 330),\n",
       " ('parmesan cheese', 326),\n",
       " ('honey', 323),\n",
       " ('ginger', 317),\n",
       " ('brown sugar', 313),\n",
       " ('mustard', 312),\n",
       " ('kosher salt', 308),\n",
       " ('bread crumbs', 308),\n",
       " ('cayenne pepper', 306),\n",
       " ('chicken breast', 298),\n",
       " ('chili powder', 297),\n",
       " ('cilantro', 290),\n",
       " ('lemon', 275),\n",
       " ('ground black pepper', 272),\n",
       " ('unsalted butter', 265),\n",
       " ('heavy cream', 261),\n",
       " ('Worcestershire sauce', 259),\n",
       " ('bay leaf', 257),\n",
       " ('cheese', 254),\n",
       " ('fresh cilantro', 253),\n",
       " ('almonds', 251),\n",
       " ('lime juice', 247),\n",
       " ('broccoli', 243),\n",
       " ('red bell pepper', 236),\n",
       " ('red onion', 232),\n",
       " ('bay leaves', 223),\n",
       " ('stalks celery', 215),\n",
       " ('green onion', 215),\n",
       " ('extra-virgin olive oil', 214),\n",
       " ('canola oil', 214),\n",
       " ('sage', 209),\n",
       " ('rosemary', 209),\n",
       " ('shallots', 206),\n",
       " ('extra virgin olive oil', 204),\n",
       " ('zucchini', 204),\n",
       " ('cumin', 203),\n",
       " ('sesame oil', 203),\n",
       " ('scallions', 201),\n",
       " ('shrimp', 201),\n",
       " ('tomato paste', 200),\n",
       " ('tomato', 191),\n",
       " ('cream of celery soup', 184),\n",
       " ('cream cheese', 175),\n",
       " ('pasta', 175),\n",
       " ('green bell pepper', 174),\n",
       " ('fresh basil', 172),\n",
       " ('corn', 171),\n",
       " ('Kosher salt', 170),\n",
       " ('water chestnuts', 170),\n",
       " ('fresh ginger', 169),\n",
       " ('green chilies', 167),\n",
       " ('freshly ground black pepper', 165),\n",
       " ('tomato sauce', 163),\n",
       " ('all-purpose', 155),\n",
       " ('yellow onion', 154),\n",
       " ('white pepper', 154),\n",
       " ('bread', 151),\n",
       " ('ground beef', 148),\n",
       " ('noodles', 148),\n",
       " ('fresh parsley', 146),\n",
       " ('flour tortillas', 146),\n",
       " ('frozen peas', 145),\n",
       " ('sherry', 144),\n",
       " ('sausage', 144),\n",
       " ('chicken breast halves', 141),\n",
       " ('breadcrumbs', 140),\n",
       " ('garlic powder', 137),\n",
       " ('ground ginger', 136),\n",
       " ('mozzarella cheese', 135),\n",
       " ('pineapple', 134),\n",
       " ('poultry seasoning', 130),\n",
       " ('onion powder', 130),\n",
       " ('black beans', 129),\n",
       " ('orange juice', 128),\n",
       " ('garlic salt', 126),\n",
       " ('corn tortillas', 125),\n",
       " ('tarragon', 125),\n",
       " ('chicken thighs', 125),\n",
       " ('fish sauce', 124),\n",
       " ('Velveeta cheese', 123),\n",
       " ('salsa', 121),\n",
       " ('condensed cream', 121),\n",
       " ('bell pepper', 119),\n",
       " ('red wine vinegar', 119),\n",
       " ('peanut oil', 118),\n",
       " ('lime', 117),\n",
       " ('mushroom soup', 116),\n",
       " ('balsamic vinegar', 116),\n",
       " ('nutmeg', 115),\n",
       " ('cream', 112),\n",
       " ('frozen broccoli', 111),\n",
       " ('cinnamon', 111),\n",
       " ('ham', 111),\n",
       " ('onion soup', 108),\n",
       " ('hot sauce', 108),\n",
       " ('avocado', 107),\n",
       " ('cabbage', 105),\n",
       " ('Swiss cheese', 104),\n",
       " ('leeks', 102),\n",
       " ('ketchup', 102),\n",
       " ('shallot', 101),\n",
       " ('oleo', 100),\n",
       " ('coconut milk', 100),\n",
       " ('buttermilk', 98),\n",
       " ('chives', 98),\n",
       " ('fresh ground black pepper', 97),\n",
       " ('vinegar', 97),\n",
       " ('egg noodles', 97),\n",
       " ('peas', 95),\n",
       " ('green beans', 92),\n",
       " ('grated cheese', 91),\n",
       " ('olives', 91),\n",
       " ('white onion', 91),\n",
       " ('rice vinegar', 89),\n",
       " ('red wine', 88),\n",
       " ('peppers', 87),\n",
       " ('crackers', 86),\n",
       " ('turkey', 86),\n",
       " ('chicken bouillon', 85),\n",
       " ('ground coriander', 85),\n",
       " ('baking powder', 83),\n",
       " ('peanuts', 82),\n",
       " ('white rice', 80),\n",
       " ('parsley flakes', 79),\n",
       " ('sesame seeds', 78),\n",
       " ('ground cinnamon', 78),\n",
       " ('pimento', 78),\n",
       " ('cayenne', 78),\n",
       " ('chicken bouillon cubes', 77),\n",
       " ('pecans', 76),\n",
       " ('feta cheese', 75),\n",
       " ('capers', 75),\n",
       " ('long grain rice', 75),\n",
       " ('lemon zest', 75),\n",
       " ('beans', 74),\n",
       " ('dill', 74),\n",
       " ('lemons', 74),\n",
       " ('cucumber', 74),\n",
       " ('barbecue sauce', 72),\n",
       " ('whipping cream', 72),\n",
       " ('cooking oil', 72),\n",
       " ('brown rice', 72),\n",
       " ('potato chips', 71),\n",
       " ('cold water', 71),\n",
       " ('skinless', 71),\n",
       " ('black olives', 70),\n",
       " ('ground pepper', 69),\n",
       " ('walnuts', 69),\n",
       " ('turmeric', 69),\n",
       " ('spinach', 68),\n",
       " ('apple', 68),\n",
       " ('ground nutmeg', 67),\n",
       " ('mixed vegetables', 67),\n",
       " ('yogurt', 67),\n",
       " ('red potatoes', 67),\n",
       " ('potato', 67),\n",
       " ('sweet onion', 66),\n",
       " ('Freshly ground black pepper', 66),\n",
       " ('tortilla chips', 65),\n",
       " ('Italian seasoning', 64),\n",
       " ('American cheese', 63),\n",
       " ('coriander', 63),\n",
       " ('fresh mushrooms', 62),\n",
       " ('Tabasco sauce', 62),\n",
       " ('beef', 62),\n",
       " ('cider vinegar', 62),\n",
       " ('celery salt', 62),\n",
       " ('peanut butter', 61),\n",
       " ('red bell peppers', 61),\n",
       " ('corn flakes', 61),\n",
       " ('Mozzarella cheese', 61),\n",
       " ('mushroom', 60),\n",
       " ('chicken bouillon granules', 60),\n",
       " ('stuffing mix', 60),\n",
       " ('hamburger', 59),\n",
       " ('green peppers', 59),\n",
       " ('sweet red pepper', 58),\n",
       " ('ground red pepper', 58),\n",
       " ('mint', 58),\n",
       " ('red peppers', 57),\n",
       " ('couscous', 57),\n",
       " ('Chicken', 57),\n",
       " ('raisins', 57),\n",
       " ('chickens', 57),\n",
       " ('fresh spinach', 55),\n",
       " ('taco', 54),\n",
       " ('pimentos', 54),\n",
       " ('Italian dressing', 53),\n",
       " ('oyster sauce', 53),\n",
       " ('T', 53),\n",
       " ('yellow onions', 52),\n",
       " ('heavy whipping cream', 52),\n",
       " ('marjoram', 52),\n",
       " ('white wine vinegar', 52),\n",
       " ('butternut squash', 51),\n",
       " ('shredded cheese', 51),\n",
       " ('boneless skinless chicken breasts', 51),\n",
       " ('pork chops', 51),\n",
       " ('fresh ground pepper', 51),\n",
       " ('nuts', 50),\n",
       " ('freshly ground pepper', 50),\n",
       " ('boiling water', 50),\n",
       " ('celery stalks', 50),\n",
       " ('cream of chicken', 50),\n",
       " ('orange', 50),\n",
       " ('apples', 49),\n",
       " ('italian seasoning', 49),\n",
       " ('Ro-Tel tomatoes', 49),\n",
       " ('cashews', 49),\n",
       " ('gingerroot', 49),\n",
       " ('cranberries', 49),\n",
       " ('ground chicken', 49),\n",
       " ('hoisin sauce', 49),\n",
       " ('plain yogurt', 48),\n",
       " ('fresh chives', 48),\n",
       " ('lemon pepper', 48),\n",
       " ('broccoli florets', 48),\n",
       " ('bean sprouts', 48),\n",
       " ('chicken livers', 48),\n",
       " ('light cream', 48),\n",
       " ('garam masala', 48),\n",
       " ('white vinegar', 47),\n",
       " ('dry mustard', 47),\n",
       " ('dressing', 47),\n",
       " ('wild rice', 46),\n",
       " ('swiss cheese', 46),\n",
       " ('fresh sage', 46),\n",
       " ('salad oil', 45),\n",
       " ('fresh garlic', 45),\n",
       " ('chicken soup', 45),\n",
       " ('cherry tomatoes', 44),\n",
       " ('cloves', 44),\n",
       " ('shiitake mushrooms', 44),\n",
       " ('red onions', 44),\n",
       " ('macaroni', 44),\n",
       " ('pork', 43),\n",
       " ('ground turmeric', 43),\n",
       " ('shortening', 43),\n",
       " ('frozen hash browns', 43),\n",
       " ('fryer', 43),\n",
       " ('cannellini beans', 42),\n",
       " ('fresh oregano', 42),\n",
       " ('Freshly ground pepper', 42),\n",
       " ('sweet potatoes', 42),\n",
       " ('enchilada sauce', 42),\n",
       " ('bell peppers', 42),\n",
       " ('fresh rosemary', 41),\n",
       " ('Cooking spray', 41),\n",
       " ('curry', 41),\n",
       " ('scallion', 41),\n",
       " ('ground cloves', 41),\n",
       " ('white beans', 41),\n",
       " ('green chiles', 41),\n",
       " ('baby spinach', 40),\n",
       " ('chili sauce', 40),\n",
       " ('hot pepper', 40),\n",
       " ('Dressing', 40),\n",
       " ('picante sauce', 40),\n",
       " ('frozen corn', 40),\n",
       " ('green olives', 40),\n",
       " ('red', 40),\n",
       " ('maple syrup', 40),\n",
       " ('black peppercorns', 40),\n",
       " ('Garlic', 40),\n",
       " ('vegetables', 39),\n",
       " ('rotisserie chicken', 39),\n",
       " ('basmati rice', 39),\n",
       " ('chickpeas', 39),\n",
       " ('yellow squash', 39),\n",
       " ('Miracle', 39),\n",
       " ('mango', 39),\n",
       " ('cauliflower', 38),\n",
       " ('snow peas', 38),\n",
       " ('ground allspice', 38),\n",
       " ('chicken cutlets', 38),\n",
       " ('avocados', 37),\n",
       " ('green bell peppers', 37),\n",
       " ('Italian Dressing', 37),\n",
       " ('pimiento', 37),\n",
       " ('apple cider vinegar', 37),\n",
       " ('Vegetable oil', 37),\n",
       " ('saffron', 36),\n",
       " ('chiles', 36),\n",
       " ('blue cheese', 36),\n",
       " ('Italian salad dressing', 36),\n",
       " ('chicken tenders', 35),\n",
       " ('chicken meat', 35),\n",
       " ('peppercorns', 35),\n",
       " ('fresh broccoli', 35),\n",
       " ('sweet paprika', 35),\n",
       " ('red curry', 35),\n",
       " ('Butter', 35),\n",
       " ('slivered almonds', 35),\n",
       " ('salad dressing', 34),\n",
       " ('rice wine vinegar', 34),\n",
       " ('pastry', 34),\n",
       " ('ground pork', 34),\n",
       " ('croutons', 34),\n",
       " ('cooking spray', 34),\n",
       " ('catsup', 34),\n",
       " ('sherry wine', 34),\n",
       " ('coriander seeds', 34),\n",
       " ('beef broth', 34),\n",
       " ('spaghetti', 34),\n",
       " ('cornmeal', 34),\n",
       " ('linguine', 34),\n",
       " ('apricot preserves', 33),\n",
       " ('white bread', 33),\n",
       " ('broth', 33),\n",
       " ('romaine lettuce', 33),\n",
       " ('onion soup mix', 33),\n",
       " ('egg yolks', 32),\n",
       " ('okra', 32),\n",
       " ('fresh thyme', 32),\n",
       " ('whole kernel corn', 32),\n",
       " ('Italian sausage', 31),\n",
       " ('pinto beans', 31),\n",
       " ('spring onions', 31),\n",
       " ('arugula', 31),\n",
       " ('penne pasta', 31),\n",
       " ('oranges', 31),\n",
       " ('arborio rice', 31),\n",
       " ('ginger root', 31),\n",
       " ('baby carrots', 31),\n",
       " ('flat leaf parsley', 31),\n",
       " ('cajun seasoning', 31),\n",
       " ('long-grain white rice', 30),\n",
       " ('egg whites', 30),\n",
       " ('chicken base', 30),\n",
       " ('instant chicken', 30),\n",
       " ('pineapple juice', 30),\n",
       " ('bamboo shoots', 30),\n",
       " ('pine nuts', 30),\n",
       " ('wine', 30),\n",
       " ('lemon rind', 30),\n",
       " ('Veg-All', 29),\n",
       " ('elbow macaroni', 29),\n",
       " ('kidney beans', 29),\n",
       " ('orange zest', 29),\n",
       " ('teriyaki sauce', 29),\n",
       " ('tomato soup', 29),\n",
       " ('tomato puree', 29),\n",
       " ('pork tenderloin', 29),\n",
       " ('Doritos', 28),\n",
       " ('Parmesan', 28),\n",
       " ('chilies', 28),\n",
       " ('flat-leaf parsley', 28),\n",
       " ('stuffing', 28),\n",
       " ('Parmesan Cheese', 28),\n",
       " ('Sauce', 28),\n",
       " ('ground turkey', 28),\n",
       " ('yellow bell pepper', 28),\n",
       " ('cumin seeds', 28),\n",
       " ('cornflakes', 27),\n",
       " ('allspice', 27),\n",
       " ('dill weed', 27),\n",
       " ('sweet potato', 27),\n",
       " ('cracker crumbs', 27),\n",
       " ('garbanzo beans', 27),\n",
       " ('ground white pepper', 26),\n",
       " ('green peas', 26),\n",
       " ('Olive oil', 26),\n",
       " ('cream of mushroom', 26),\n",
       " ('tortillas', 26),\n",
       " ('hearts', 26),\n",
       " ('frozen spinach', 25),\n",
       " ('grapes', 25),\n",
       " ('golden raisins', 25),\n",
       " ('egg yolk', 25),\n",
       " ('long-grain rice', 25),\n",
       " ('Rice', 25),\n",
       " ('beer', 25),\n",
       " ('Pepper', 25),\n",
       " ('cucumbers', 25),\n",
       " ('pancetta', 25),\n",
       " ('fennel bulb', 25),\n",
       " ('onion flakes', 25),\n",
       " ('crescent rolls', 25),\n",
       " ('tomato juice', 25),\n",
       " ('orange marmalade', 25),\n",
       " ('quinoa', 25),\n",
       " ('chicken flavor', 24),\n",
       " ('white onions', 24),\n",
       " ('corn oil', 24),\n",
       " ('sesame seed', 24),\n",
       " ('white sugar', 24),\n",
       " ('light coconut milk', 24),\n",
       " ('Bisquick', 24),\n",
       " ('white mushrooms', 24),\n",
       " ('kale', 24),\n",
       " ('sauce', 24),\n",
       " ('pork sausage', 24),\n",
       " ('rice wine', 24),\n",
       " ('button mushrooms', 23),\n",
       " ('pork shoulder', 23),\n",
       " ('salmon', 23),\n",
       " ('Barbecue Sauce', 23),\n",
       " ('brandy', 23),\n",
       " ('pepper sauce', 23),\n",
       " ('baking soda', 23),\n",
       " ('coconut', 23),\n",
       " ('lean ground beef', 23),\n",
       " ('Cheese', 23),\n",
       " ('goat cheese', 23),\n",
       " ('buns', 23),\n",
       " ('lamb', 23),\n",
       " ('mandarin oranges', 22),\n",
       " ('barley', 22),\n",
       " ('Water', 22),\n",
       " ('pearl barley', 22),\n",
       " ('Salad', 22),\n",
       " ('boneless chicken', 22),\n",
       " ('pimientos', 22),\n",
       " ('mirin', 22),\n",
       " ('fennel seeds', 22),\n",
       " ('Arborio rice', 22),\n",
       " ('green cabbage', 22),\n",
       " ('coarse salt', 22),\n",
       " ('apple cider', 22),\n",
       " ('pumpkin', 22),\n",
       " ('apple juice', 22),\n",
       " ('Onion', 22),\n",
       " ('frozen hash brown potatoes', 22),\n",
       " ('spaghetti sauce', 22),\n",
       " ('Soy sauce', 21),\n",
       " ('eggplant', 21),\n",
       " ('parmesan', 21),\n",
       " ('fennel', 21),\n",
       " ('olive', 21),\n",
       " ('orzo pasta', 21),\n",
       " ('saffron threads', 21),\n",
       " ('instant rice', 21),\n",
       " ('chicken thigh', 21),\n",
       " ('jalapeno', 21),\n",
       " ('onion salt', 21),\n",
       " ('Italian parsley', 21),\n",
       " ('ricotta cheese', 21),\n",
       " ('rice noodles', 21),\n",
       " ('lard', 20),\n",
       " ('corn kernels', 20),\n",
       " ('light brown sugar', 20),\n",
       " ('flat-leaf', 20),\n",
       " ('radishes', 20),\n",
       " ('lime zest', 20),\n",
       " ('shredded Monterey Jack cheese', 20),\n",
       " ('parsnips', 20),\n",
       " ('jalapenos', 20),\n",
       " ('hot pepper sauce', 20),\n",
       " ('mayo', 20),\n",
       " ('white', 20),\n",
       " ('fresh Italian parsley', 20),\n",
       " ('Tomatoes', 20),\n",
       " ('jasmine rice', 20),\n",
       " ('hash browns', 20),\n",
       " ('Ingredients', 19),\n",
       " ('mein noodles', 19),\n",
       " ('marinade', 19),\n",
       " ('tuna', 19),\n",
       " ('long grain white rice', 19),\n",
       " ('shredded lettuce', 19),\n",
       " ('mushroom stems', 19),\n",
       " ('sake', 19),\n",
       " ('frozen green peas', 19),\n",
       " ('gold potatoes', 19),\n",
       " ('cornbread', 19),\n",
       " ('herbs', 19),\n",
       " ('cornflour', 19),\n",
       " ('red grapes', 19),\n",
       " ('kielbasa', 19),\n",
       " ('lasagna noodles', 18),\n",
       " ('roasting chickens', 18),\n",
       " ('cottage cheese', 18),\n",
       " ('ranch dressing', 18),\n",
       " ('Accent', 18),\n",
       " ('pasta sauce', 18),\n",
       " ('turkey breast', 18),\n",
       " ('molasses', 18),\n",
       " ('cremini mushrooms', 18),\n",
       " ('long grain', 18),\n",
       " ('currants', 18),\n",
       " ('fresh asparagus', 18),\n",
       " ('sweet onions', 18),\n",
       " ('coconut oil', 18),\n",
       " ('jalapeno pepper', 18),\n",
       " ('Cajun seasoning', 18),\n",
       " ('sherry vinegar', 18),\n",
       " ('crabmeat', 18),\n",
       " ('green chili peppers', 18),\n",
       " ('pork loin', 18),\n",
       " ('herb stuffing mix', 18),\n",
       " ('grape tomatoes', 18),\n",
       " ('provolone cheese', 17),\n",
       " ('poppy seed', 17),\n",
       " ('roma tomatoes', 17),\n",
       " ('Sugar', 17),\n",
       " ('red cabbage', 17),\n",
       " ('Dijon mustard', 17),\n",
       " ('prunes', 17),\n",
       " ('jalapeno peppers', 17),\n",
       " ('yellow cornmeal', 17),\n",
       " ('Tater', 17),\n",
       " ('fresh mint', 17),\n",
       " ('anise', 17),\n",
       " ('Cheddar', 17),\n",
       " ('dark sesame oil', 17),\n",
       " ('red chili pepper', 17),\n",
       " ('vermicelli', 17),\n",
       " ('Stove Top stuffing', 17),\n",
       " ('sweet chili sauce', 17),\n",
       " ('sauerkraut', 17),\n",
       " ('vegetable', 17),\n",
       " ('lentils', 17),\n",
       " ('romano cheese', 17),\n",
       " ('sunflower oil', 17),\n",
       " ('mint leaves', 17),\n",
       " ('pods', 17),\n",
       " ('apricots', 17),\n",
       " ('lime wedges', 17),\n",
       " ('green grapes', 16),\n",
       " ('kernel corn', 16),\n",
       " ('black-eyed peas', 16),\n",
       " ('sharp cheese', 16),\n",
       " ('regular rice', 16),\n",
       " ('cooking sherry', 16),\n",
       " ('mussels', 16),\n",
       " ('Extra-virgin olive oil', 16),\n",
       " ('cranberry sauce', 16),\n",
       " ('fresh coriander', 16),\n",
       " ('Marinade', 16),\n",
       " ('queso fresco', 16),\n",
       " ('dried basil', 16),\n",
       " ('fresh gingerroot', 16),\n",
       " ('russet potatoes', 16),\n",
       " ('ground sage', 16),\n",
       " ('Mayonnaise', 16),\n",
       " ('only', 16),\n",
       " ('Milk', 16),\n",
       " ('nonstick cooking spray', 16),\n",
       " ('broccoli flowerets', 16),\n",
       " ('corn flake crumbs', 16),\n",
       " ('saffron thread', 16),\n",
       " ('condensed chicken broth', 16),\n",
       " ('shredded monterey jack cheese', 15),\n",
       " ('salad greens', 15),\n",
       " ('asparagus', 15),\n",
       " ('ground cardamom', 15),\n",
       " ('leek', 15),\n",
       " ('celery soup', 15),\n",
       " ('thin', 15),\n",
       " ('Spanish onion', 15),\n",
       " ('apricot', 15),\n",
       " ('baking potatoes', 15),\n",
       " ('lemon peel', 15),\n",
       " ('artichokes', 15),\n",
       " ('light mayonnaise', 15),\n",
       " ('Romano cheese', 15),\n",
       " ('Marsala wine', 15),\n",
       " ('hominy', 14),\n",
       " ('Sour cream', 14),\n",
       " ('Italian bread crumbs', 14),\n",
       " ('chicken bouillon powder', 14),\n",
       " ('creme fraiche', 14),\n",
       " ('fennel seed', 14),\n",
       " ('black', 14),\n",
       " ('marsala wine', 14),\n",
       " ('soya sauce', 14),\n",
       " ('chile powder', 14),\n",
       " ('horseradish', 14),\n",
       " ('STOVE', 14),\n",
       " ('Cheddar Cheese', 14),\n",
       " ('fresh coarse ground black pepper', 14),\n",
       " ('yellow mustard', 14),\n",
       " ('yellow pepper', 14),\n",
       " ('baguette', 14),\n",
       " ('broccoli floret', 14),\n",
       " ('herb stuffing', 14),\n",
       " ('alfredo sauce', 14),\n",
       " ('chorizo', 14),\n",
       " ('seasoning salt', 14),\n",
       " ('great northern beans', 14),\n",
       " ('sweet red bell peppers', 14),\n",
       " ('grated Monterey', 14),\n",
       " ('clam juice', 14),\n",
       " ('¼', 14),\n",
       " ('chestnuts', 14),\n",
       " ('corn chips', 14),\n",
       " ('Italian seasoned breadcrumbs', 14),\n",
       " ('buttered bread crumbs', 14),\n",
       " ('seasoning', 13),\n",
       " ('all-purpose flour', 13),\n",
       " ('head cauliflower', 13),\n",
       " ('TACO', 13),\n",
       " ('Cilantro', 13),\n",
       " ('Ro-Tel', 13),\n",
       " ('ground meat', 13),\n",
       " ('porcini mushrooms', 13),\n",
       " ('penne', 13),\n",
       " ('ready', 13),\n",
       " ('mozzarella', 13),\n",
       " ('grapeseed oil', 13),\n",
       " ('pearl onions', 13),\n",
       " ('chunky salsa', 13),\n",
       " (\"'S\", 13),\n",
       " ('whole wheat flour', 13),\n",
       " ('cracked black pepper', 13),\n",
       " ('Salsa', 13),\n",
       " ('baby spinach leaves', 13),\n",
       " ('browns', 13),\n",
       " ('angel hair pasta', 13),\n",
       " ('chicken seasoning', 13),\n",
       " ('fresh marjoram', 13),\n",
       " ('blend cheese', 13),\n",
       " ('cream of potato soup', 13),\n",
       " ('ground cayenne pepper', 13),\n",
       " ('powdered ginger', 13),\n",
       " ('fresh spinach leaves', 13),\n",
       " ('Cheddar cheese soup', 13),\n",
       " ('taco sauce', 13),\n",
       " ('bacon bits', 13),\n",
       " ('lemon-pepper seasoning', 13),\n",
       " ('red chili powder', 13),\n",
       " ('Paprika', 13),\n",
       " ('Spinach', 13),\n",
       " ('beef stock', 13),\n",
       " ('sweet red peppers', 13),\n",
       " ('mixed salad greens', 13),\n",
       " ('Greek yogurt', 13),\n",
       " ('whole chickens', 13),\n",
       " ('clams', 13),\n",
       " ('cream of broccoli soup', 13),\n",
       " ('vegetable stock', 12),\n",
       " ('rotini pasta', 12),\n",
       " ('liquid smoke', 12),\n",
       " ('steak sauce', 12),\n",
       " ('hot water', 12),\n",
       " ('chicken gumbo soup', 12),\n",
       " ('thin spaghetti', 12),\n",
       " ('peaches', 12),\n",
       " ('chicken sausage', 12),\n",
       " ('PHILADELPHIA Cream Cheese', 12),\n",
       " ('green enchilada sauce', 12),\n",
       " ('polenta', 12),\n",
       " ('Italian', 12),\n",
       " ('rolls', 12),\n",
       " ('cheddar', 12),\n",
       " ('light sour cream', 12),\n",
       " ('celery stalk', 12),\n",
       " ('sambal oelek', 12),\n",
       " ('nonfat yogurt', 12),\n",
       " ('unsweetened coconut milk', 12),\n",
       " ('coarse kosher salt', 12),\n",
       " ('Flour', 12),\n",
       " ('fresh basil leaf', 12),\n",
       " (\"Uncle Ben's\", 12),\n",
       " ('salad', 12),\n",
       " ('taco seasoning', 12),\n",
       " ('Mozzarella Cheese', 12),\n",
       " ('chile', 12),\n",
       " ('crusty bread', 12),\n",
       " ('orange rind', 12),\n",
       " ('boneless skinless chicken breast', 12),\n",
       " ('choy', 12),\n",
       " ('dates', 12),\n",
       " ('Swiss chard', 11),\n",
       " ('Filling', 11),\n",
       " ('guacamole', 11),\n",
       " ('parsley sprigs', 11),\n",
       " ('worcestershire sauce', 11),\n",
       " ('oysters', 11),\n",
       " ('bouquet garni', 11),\n",
       " ('Olive Oil', 11),\n",
       " ('herb seasoned stuffing mix', 11),\n",
       " ('pesto sauce', 11),\n",
       " ('cream chicken soup', 11),\n",
       " ('white kidney beans', 11),\n",
       " ('red chilli', 11),\n",
       " ('sunflower seeds', 11),\n",
       " ('cilantro leaf', 11),\n",
       " ('freshly squeezed lemon juice', 11),\n",
       " ('ramen noodles', 11),\n",
       " ('red chilies', 11),\n",
       " ('Honey', 11),\n",
       " ('marinara sauce', 11),\n",
       " ('ground thyme', 11),\n",
       " ('handful', 11),\n",
       " ('Chinese noodles', 11),\n",
       " ('chili paste', 11),\n",
       " ('Black pepper', 11),\n",
       " ('chicken strips', 11),\n",
       " ('red kidney beans', 11),\n",
       " ('lemon slices', 11),\n",
       " ('cream-style', 11),\n",
       " ('coriander leaves', 11),\n",
       " ('Worcestershire', 11),\n",
       " ('egg substitute', 11),\n",
       " ('Pasta Sauce', 11),\n",
       " ('pineapple tidbits', 10),\n",
       " ('pumpkin seeds', 10),\n",
       " ('taco seasoning mix', 10),\n",
       " ('parsnip', 10),\n",
       " ('navy beans', 10),\n",
       " ('Tabasco', 10),\n",
       " ('Celery', 10),\n",
       " ('Sesame Dressing', 10),\n",
       " ('mustard seeds', 10),\n",
       " ('broccoli spears', 10),\n",
       " ('orange juice concentrate', 10),\n",
       " ('bok choy', 10),\n",
       " ('cumin powder', 10),\n",
       " ('fresh breadcrumbs', 10),\n",
       " ('ginger paste', 10),\n",
       " ('fresh broccoli florets', 10),\n",
       " ('pork loin chops', 10),\n",
       " ('frozen broccoli spears', 10),\n",
       " ('wonton wrappers', 10),\n",
       " ('Italian bread', 10),\n",
       " ('coriander powder', 10),\n",
       " ('ground mustard', 10),\n",
       " ('CHICKEN', 10),\n",
       " ('crust', 10),\n",
       " ('Cornstarch', 10),\n",
       " ('cumin ground', 10),\n",
       " ('chili pepper', 10),\n",
       " ('ranch salad dressing', 10),\n",
       " ('red chili', 10),\n",
       " ('dressing mix', 10),\n",
       " ('poppy seeds', 10),\n",
       " ('fresh dill', 10),\n",
       " ('grainy mustard', 10),\n",
       " ('orzo', 10),\n",
       " ('generous', 10),\n",
       " ('green', 10),\n",
       " ('golden mushroom soup', 10),\n",
       " ('frozen vegetables', 10),\n",
       " ('prawns', 10),\n",
       " ('red lentils', 9),\n",
       " ('Sake', 9),\n",
       " ('Romano', 9),\n",
       " ('colby-monterey', 9),\n",
       " ('chopped ripe olives', 9),\n",
       " ('creole seasoning', 9),\n",
       " ('shiitake mushroom', 9),\n",
       " ('green chile peppers', 9),\n",
       " ('chili peppers', 9),\n",
       " ('chicken pieces', 9),\n",
       " ('fresh-ground black pepper', 9),\n",
       " ('corned beef', 9),\n",
       " ('fresh corn kernels', 9),\n",
       " ('chili', 9),\n",
       " ('roll', 9),\n",
       " ('fresh peas', 9),\n",
       " ('nonfat sour cream', 9),\n",
       " ('corn starch', 9),\n",
       " ('phyllo', 9),\n",
       " ('biscuits', 9),\n",
       " ('fresh ginger root', 9),\n",
       " ('low-fat mayonnaise', 9),\n",
       " ('lettuce', 9),\n",
       " ('cornbread crumbs', 9),\n",
       " ('curry pwdr', 9),\n",
       " ('adobo sauce', 9),\n",
       " ('white button mushrooms', 9),\n",
       " ('matzo meal', 9),\n",
       " ('hot chili peppers', 9),\n",
       " ('Uncle Ben', 9),\n",
       " ('ground chuck', 9),\n",
       " ('andouille sausage', 9),\n",
       " ('vegetable oil cooking spray', 9),\n",
       " ('bread cubes', 9),\n",
       " ('white chicken', 9),\n",
       " ('limes', 9),\n",
       " ('Potatoes', 9),\n",
       " ('dry sherry', 9),\n",
       " ('lean pork', 9),\n",
       " ('vegetable broth', 9),\n",
       " ('center', 9),\n",
       " ('Bacon', 9),\n",
       " ('rum', 9),\n",
       " ('ghee', 9),\n",
       " ('PHILADELPHIA', 9),\n",
       " ('wine vinegar', 9),\n",
       " ('hash brown potatoes', 9),\n",
       " ('chorizo sausage', 9),\n",
       " ('russet potato', 9),\n",
       " ('spinach leaves', 9),\n",
       " ('green curry', 9),\n",
       " ('spice powder', 9),\n",
       " ('berries', 9),\n",
       " ('smooth peanut butter', 9),\n",
       " ('sweet', 9),\n",
       " ('green chili salsa', 9),\n",
       " ('wedges', 8),\n",
       " ('instant brown rice', 8),\n",
       " ('Mirin', 8),\n",
       " ('cashew nuts', 8),\n",
       " ('tequila', 8),\n",
       " ('beets', 8),\n",
       " ('toothpicks', 8),\n",
       " ('cubes', 8),\n",
       " ('button mushroom', 8),\n",
       " ('brown mustard', 8),\n",
       " ('cinnamon stick', 8),\n",
       " ('collard greens', 8),\n",
       " ('turkey bacon', 8),\n",
       " ('green apple', 8),\n",
       " ('lemon wedges', 8),\n",
       " ('potato starch', 8),\n",
       " ('Bourbon', 8),\n",
       " ('chicken soup base', 8),\n",
       " ('chicken bouillon granule', 8),\n",
       " ('process cheese', 8),\n",
       " ('shaoxing wine', 8),\n",
       " ('red chili peppers', 8),\n",
       " ('mixed greens', 8),\n",
       " ('gouda cheese', 8),\n",
       " ('your choice', 8),\n",
       " ('spring onion', 8),\n",
       " ('cornbread stuffing', 8),\n",
       " ('turkey sausage', 8),\n",
       " ('caraway seeds', 8),\n",
       " ('Lime wedges', 8),\n",
       " ('biscuit mix', 8),\n",
       " ('Crusty bread', 8),\n",
       " ('blanched almonds', 8),\n",
       " ('nonfat milk', 8),\n",
       " ('portabella mushrooms', 8),\n",
       " ('cognac', 8),\n",
       " ('turkey cutlets', 8),\n",
       " ('pepper cheese', 8),\n",
       " ('mixed mushrooms', 8),\n",
       " ('cooking wine', 8),\n",
       " ('lettuce leaves', 8),\n",
       " ('corn tortilla', 8),\n",
       " ('chervil', 8),\n",
       " ('pumpkin puree', 8),\n",
       " ('pepperoni', 8),\n",
       " ('chutney', 8),\n",
       " ('chunky peanut butter', 8),\n",
       " ('Vidalia onion', 8),\n",
       " ('stalks lemongrass', 8),\n",
       " ('roasting chicken', 8),\n",
       " ('red beans', 8),\n",
       " ('yellow bell peppers', 8),\n",
       " ('baking potato', 8),\n",
       " ('baby corn', 8),\n",
       " ('chocolate', 8),\n",
       " ('sugar snap peas', 8),\n",
       " ('safflower oil', 8),\n",
       " ('Red', 8),\n",
       " ('ground veal', 8),\n",
       " ('port wine', 8),\n",
       " ('freshly grated parmesan cheese', 8),\n",
       " ('whole wheat bread', 8),\n",
       " ('serrano peppers', 8),\n",
       " ('spray', 8),\n",
       " ('cardamom pods', 8),\n",
       " ('English peas', 8),\n",
       " ('chili flakes', 8),\n",
       " ('Lemon juice', 8),\n",
       " ('packet', 8),\n",
       " ('celery root', 8),\n",
       " ('peanut', 8),\n",
       " ('egg white', 8),\n",
       " ('banana', 8),\n",
       " ('cold unsalted butter', 7),\n",
       " ('blue cheese dressing', 7),\n",
       " ('whole wheat tortillas', 7),\n",
       " ('Katakuriko', 7),\n",
       " ('anchovy', 7),\n",
       " ('condensed chicken', 7),\n",
       " ('pesto', 7),\n",
       " ('chicken breast tenders', 7),\n",
       " ('Alfredo sauce', 7),\n",
       " ('meat', 7),\n",
       " ('rice flour', 7),\n",
       " ('brown onion', 7),\n",
       " ('coarse grain mustard', 7),\n",
       " ('chili beans', 7),\n",
       " ('tamarind paste', 7),\n",
       " ('stalk celery', 7),\n",
       " ('ground oregano', 7),\n",
       " ('lump crabmeat', 7),\n",
       " ('red chile', 7),\n",
       " ('Curry', 7),\n",
       " ('brown', 7),\n",
       " ('cold butter', 7),\n",
       " ('shell pasta', 7),\n",
       " ('fresh herbs', 7),\n",
       " ('salt pork', 7),\n",
       " ('freshly cracked black pepper', 7),\n",
       " ('hen', 7),\n",
       " ('coriander seed', 7),\n",
       " ('corn bread', 7),\n",
       " ('coleslaw mix', 7),\n",
       " ('rosemary sprigs', 7),\n",
       " ('low-fat', 7),\n",
       " ('Vegetable cooking spray', 7),\n",
       " ('low-fat sour cream', 7),\n",
       " ('sweet pickle', 7),\n",
       " ('jack cheese', 7),\n",
       " ('peach preserves', 7),\n",
       " ('low-fat plain yogurt', 7),\n",
       " ('lobster', 7),\n",
       " ('herb dressing', 7),\n",
       " ('sweet basil', 7),\n",
       " ('Tomato', 7),\n",
       " ('sweet corn', 7),\n",
       " ('veal', 7),\n",
       " ('hazelnuts', 7),\n",
       " ('cornflake crumbs', 7),\n",
       " ('lean ground turkey', 7),\n",
       " ('soup', 7),\n",
       " ('littleneck clams', 7),\n",
       " ('Italian tomatoes', 7),\n",
       " ('summer', 7),\n",
       " ('Creole seasoning', 7),\n",
       " ('Topping', 7),\n",
       " ('fresh tarragon', 7),\n",
       " ('fresh green beans', 7),\n",
       " ('deli ham', 7),\n",
       " ('low-salt chicken broth', 7),\n",
       " ('chicken mushroom', 7),\n",
       " ('chicken rice soup', 7),\n",
       " ('Pet milk', 7),\n",
       " ('chili-garlic sauce', 7),\n",
       " ('Extra virgin olive oil', 7),\n",
       " ('flour tortilla', 7),\n",
       " ('granny smith apples', 7),\n",
       " ('ham hocks', 7),\n",
       " ('anchovy paste', 7),\n",
       " ('cinnamon sticks', 7),\n",
       " ('wooden skewers', 7),\n",
       " ('acorn', 7),\n",
       " ('basil pesto', 7),\n",
       " ('chicken gravy', 7),\n",
       " ('celery flakes', 7),\n",
       " ('Mozzarella', 7),\n",
       " ('Cornish game hens', 7),\n",
       " ('bourbon', 7),\n",
       " ('butternut', 7),\n",
       " ('Italian cheese', 7),\n",
       " ('coconut cream', 7),\n",
       " ('gumbo file', 7),\n",
       " ('no-salt', 7),\n",
       " ('farfalle', 7),\n",
       " ('sweet butter', 7),\n",
       " ('pizza sauce', 7),\n",
       " ('serrano chiles', 7),\n",
       " ('five-spice powder', 7),\n",
       " ...]"
      ]
     },
     "execution_count": 19,
     "metadata": {},
     "output_type": "execute_result"
    }
   ],
   "source": [
    "from ast import literal_eval\n",
    "from collections import Counter\n",
    "\n",
    "chicken_recipe_ingredients = []\n",
    "\n",
    "# Step 1: Convert the string representation of lists to actual lists\n",
    "chicken_recipe_ingredients = df_chicken_10000['NER'].apply(literal_eval)\n",
    "\n",
    "# Step 2: Flatten the list of lists to get a single list containing all words\n",
    "all_words = [word for sublist in chicken_recipe_ingredients for word in sublist]\n",
    "\n",
    "# Step 3: Use a counter to get the count of each unique word\n",
    "word_counts = Counter(all_words)\n",
    "word_counts.most_common()"
   ]
  },
  {
   "cell_type": "code",
   "execution_count": 20,
   "id": "80603da4",
   "metadata": {},
   "outputs": [],
   "source": [
    "my_dict = dict(sorted(word_counts.items(), key=lambda x: len(x[0])))"
   ]
  },
  {
   "cell_type": "code",
   "execution_count": 21,
   "id": "55b4a504",
   "metadata": {},
   "outputs": [
    {
     "data": {
      "image/png": "[encoded data removed]",
      "text/plain": [
       "<Figure size 1200x800 with 1 Axes>"
      ]
     },
     "metadata": {},
     "output_type": "display_data"
    }
   ],
   "source": [
    "# Sort the dictionary by values in descending order\n",
    "sorted_items = sorted(my_dict.items(), key=lambda x: x[1], reverse=True)\n",
    "\n",
    "top_30_keys = [item[0] for item in sorted_items[:31]]\n",
    "top_30_values = [item[1] for item in sorted_items[:31]]\n",
    "\n",
    "# Plot the bar plot\n",
    "plt.figure(figsize=(12, 8))\n",
    "plt.barh(top_30_keys, top_30_values, color='lightblue')\n",
    "plt.ylabel('Ingredients')\n",
    "plt.xlabel('Count')\n",
    "plt.gca().invert_yaxis()  # Display the most common ingredient at the top\n",
    "plt.show()"
   ]
  },
  {
   "cell_type": "code",
   "execution_count": 60,
   "id": "73b98768",
   "metadata": {},
   "outputs": [],
   "source": [
    "def clean(text):\n",
    "    \n",
    "    if not isinstance(text, str):\n",
    "        return text\n",
    "    \n",
    "    text = re.sub(\"\\([^\\)]*\\)\", \" \", text)  # remove quotes\n",
    "    text = re.sub(r'\\{.*?\\}', \" \", text)    # remove curly brackets\n",
    "    text = re.sub(\"(\\s+|$\\s+|\\s+^)\", \" \", text)  # remove all additional white characters\n",
    "    return text\n",
    "\n",
    "# Apply the clean to the dataframe\n",
    "df_chicken_10000_clean = df_chicken_10000.map(clean)"
   ]
  },
  {
   "cell_type": "code",
   "execution_count": 61,
   "id": "b466eba1",
   "metadata": {},
   "outputs": [],
   "source": [
    "train_data = df_chicken_10000[:9900]\n",
    "eval_data = df_chicken_10000[9900:]"
   ]
  },
  {
   "cell_type": "code",
   "execution_count": 62,
   "id": "36de67a9",
   "metadata": {},
   "outputs": [
    {
     "data": {
      "text/plain": [
       "((9900, 4), (100, 4))"
      ]
     },
     "execution_count": 62,
     "metadata": {},
     "output_type": "execute_result"
    }
   ],
   "source": [
    "train_data.shape, eval_data.shape"
   ]
  },
  {
   "cell_type": "code",
   "execution_count": 63,
   "id": "357e21e0",
   "metadata": {},
   "outputs": [],
   "source": [
    "train_data.reset_index(drop=True, inplace=True)\n",
    "eval_data.reset_index(drop=True, inplace=True)"
   ]
  },
  {
   "cell_type": "code",
   "execution_count": 64,
   "id": "5b0ce595",
   "metadata": {},
   "outputs": [
    {
     "data": {
      "text/plain": [
       "((9900, 4), (100, 4))"
      ]
     },
     "execution_count": 64,
     "metadata": {},
     "output_type": "execute_result"
    }
   ],
   "source": [
    "train_data.shape, eval_data.shape"
   ]
  },
  {
   "cell_type": "markdown",
   "id": "2be7d65b",
   "metadata": {},
   "source": [
    "# Preparing the Training/Evaluation Data"
   ]
  },
  {
   "cell_type": "code",
   "execution_count": 65,
   "id": "e314ae75",
   "metadata": {},
   "outputs": [],
   "source": [
    "import json\n",
    "\n",
    "# taken from github with edits using except to locate problem rows\n",
    "def df_to_json(input_df, output_file):\n",
    "    print(\"Writing to\", output_file)\n",
    "    with open(output_file, 'w', encoding='utf-8') as f:\n",
    "        for index, row in input_df.iterrows():\n",
    "            try:\n",
    "                if index%100000==0:\n",
    "                    print(index)\n",
    "                \n",
    "                if type(row.NER)!=str:\n",
    "                    continue\n",
    "\n",
    "                title = row.title\n",
    "                directions = json.loads(row.directions)\n",
    "                ingredients = json.loads(row.ingredients)\n",
    "                ner = json.loads(row.NER)\n",
    "                \n",
    "                res = \"<RECIPE_START> <INPUT_START> \" + \" <NEXT_INPUT> \".join(ner) + \" <INPUT_END> <INGR_START> \" + \\\n",
    "                    \" <NEXT_INGR> \".join(ingredients) + \" <INGR_END> <INSTR_START> \" + \\\n",
    "                    \" <NEXT_INSTR> \".join(directions) + \" <INSTR_END> <TITLE_START> \" + title + \" <TITLE_END> <RECIPE_END>\"\n",
    "                f.write(\"{}\\n\".format(res)) \n",
    "                \n",
    "            except (UnicodeEncodeError, json.JSONDecodeError) as e:\n",
    "                print(\"Error at row:\", index)\n",
    "                print(\"Error message:\", e)\n",
    "                print(\"Problematic column:\", row.name)  # Get the column name with the maximum value\n",
    "                print(\"Problematic data:\", row)\n",
    "                print(\"-\" * 40)"
   ]
  },
  {
   "cell_type": "code",
   "execution_count": 66,
   "id": "595a7809",
   "metadata": {},
   "outputs": [
    {
     "name": "stdout",
     "output_type": "stream",
     "text": [
      "Writing to new_train_chicken_10000\n",
      "0\n"
     ]
    }
   ],
   "source": [
    "df_to_json(train_data, 'new_train_chicken_10000')"
   ]
  },
  {
   "cell_type": "code",
   "execution_count": 67,
   "id": "256cc77a",
   "metadata": {},
   "outputs": [
    {
     "name": "stdout",
     "output_type": "stream",
     "text": [
      "Writing to new_eval_chicken_10000\n",
      "0\n"
     ]
    }
   ],
   "source": [
    "df_to_json(eval_data, 'new_eval_chicken_10000')"
   ]
  },
  {
   "cell_type": "code",
   "execution_count": 22,
   "id": "37d85a55",
   "metadata": {},
   "outputs": [],
   "source": [
    "#pip install xformers"
   ]
  },
  {
   "cell_type": "markdown",
   "id": "f963737f",
   "metadata": {},
   "source": [
    "# Tokenization"
   ]
  },
  {
   "cell_type": "code",
   "execution_count": 68,
   "id": "b3620a60",
   "metadata": {},
   "outputs": [],
   "source": [
    "# Set the seed for the model\n",
    "\n",
    "import random\n",
    "\n",
    "def set_seed(seed):\n",
    "    random.seed(seed)\n",
    "    np.random.seed(seed)\n",
    "    torch.manual_seed(seed)\n",
    "    if torch.cuda.is_available():\n",
    "        torch.cuda.manual_seed_all(seed)\n",
    "\n",
    "# Set the seed value to your desired number\n",
    "set_seed(42)"
   ]
  },
  {
   "cell_type": "code",
   "execution_count": 69,
   "id": "d00d76ff",
   "metadata": {},
   "outputs": [],
   "source": [
    "import torch.multiprocessing as mp\n",
    "\n",
    "if not mp.get_start_method(allow_none=True):\n",
    "    mp.set_start_method('spawn')"
   ]
  },
  {
   "cell_type": "code",
   "execution_count": 70,
   "id": "5816b7e7",
   "metadata": {},
   "outputs": [
    {
     "name": "stdout",
     "output_type": "stream",
     "text": [
      "{\n",
      "    \"additional_special_tokens\": [\n",
      "        \"<TITLE_START>\",\n",
      "        \"<TITLE_END>\",\n",
      "        \"<INSTR_START>\",\n",
      "        \"<NEXT_INSTR>\",\n",
      "        \"<INSTR_END>\",\n",
      "        \"<INGR_START>\",\n",
      "        \"<NEXT_INGR>\",\n",
      "        \"<INGR_END>\",\n",
      "        \"<RECIPE_START>\",\n",
      "        \"<RECIPE_END>\",\n",
      "        \"<INPUT_START>\",\n",
      "        \"<INPUT_END>\",\n",
      "        \"<NEXT_INPUT>\"\n",
      "    ],\n",
      "    \"pad_token\": \"<RECIPE_END>\"\n",
      "}\n"
     ]
    }
   ],
   "source": [
    "from transformers import GPT2Tokenizer, GPT2LMHeadModel, DataCollatorForLanguageModeling, Trainer, TrainingArguments, AdamW\n",
    "\n",
    "# Step 1: Load the GPT-2 tokenizer\n",
    "tokenizer = GPT2Tokenizer.from_pretrained(\"gpt2\")\n",
    "additional_special_tokens = [\n",
    "    \"<TITLE_START>\", \"<TITLE_END>\", \n",
    "    \"<INSTR_START>\", \"<NEXT_INSTR>\", \"<INSTR_END>\", \n",
    "    \"<INGR_START>\", \"<NEXT_INGR>\", \"<INGR_END>\", \n",
    "    \"<RECIPE_START>\", \"<RECIPE_END>\", \n",
    "    \"<INPUT_START>\", \"<INPUT_END>\", \"<NEXT_INPUT>\"\n",
    "]\n",
    "\n",
    "# Step 2: Include the special tokens into tokenizer dict\n",
    "special_tokens_dict = {'additional_special_tokens': additional_special_tokens, 'pad_token': \"<RECIPE_END>\"}\n",
    "tokenizer.add_special_tokens(special_tokens_dict)\n",
    "\n",
    "special_tokens_dict = {\n",
    "    'additional_special_tokens': additional_special_tokens, \n",
    "    'pad_token': \"<RECIPE_END>\", \n",
    "    'bos_token': \"\", \n",
    "    'eos_token': \"\", \n",
    "    'unk_token': \"\"\n",
    "}\n",
    "\n",
    "tokenizer.add_special_tokens(special_tokens_dict)\n",
    "# Step 3: Save the tokenizer to a directory\n",
    "tokenizer.save_pretrained('path/to/save/tokenizer')\n",
    "\n",
    "# Step 4: Check the saved special tokens map\n",
    "import json\n",
    "with open('path/to/save/tokenizer/special_tokens_map.json', 'r') as f:\n",
    "    special_tokens_map = json.load(f)\n",
    "    print(json.dumps(special_tokens_map, indent=4))"
   ]
  },
  {
   "cell_type": "code",
   "execution_count": 71,
   "id": "ed40ec7d",
   "metadata": {},
   "outputs": [],
   "source": [
    "assert tokenizer.pad_token_id == tokenizer.convert_tokens_to_ids(\"<RECIPE_END>\")"
   ]
  },
  {
   "cell_type": "markdown",
   "id": "beb8bc52",
   "metadata": {},
   "source": [
    "# Checking the training/eval data"
   ]
  },
  {
   "cell_type": "code",
   "execution_count": 72,
   "id": "ec763425",
   "metadata": {},
   "outputs": [],
   "source": [
    "with open('train_chicken_10000', 'r', encoding='utf-8') as f:\n",
    "    train_chicken_10000 = f.readlines()"
   ]
  },
  {
   "cell_type": "code",
   "execution_count": 81,
   "id": "f686317e",
   "metadata": {},
   "outputs": [
    {
     "data": {
      "text/plain": [
       "['<RECIPE_START> <INPUT_START> chicken <NEXT_INPUT> apple <NEXT_INPUT> green onion <NEXT_INPUT> mayonnaise <NEXT_INPUT> lemon juice <NEXT_INPUT> curry powder <NEXT_INPUT> salt <NEXT_INPUT> bread <NEXT_INPUT> butter <INPUT_END> <INGR_START> 1 boneless chicken breast, skin removed <NEXT_INGR> 1/4 cup finely diced peeled apple <NEXT_INGR> 1 green onion, finely diced <NEXT_INGR> 1/4 cup mayonnaise <NEXT_INGR> 1 teaspoon lemon juice <NEXT_INGR> 1/4 teaspoon curry powder (optional) <NEXT_INGR> salt and pepper <NEXT_INGR> 6 slices bread <NEXT_INGR> 2 tablespoons butter, softened <INGR_END> <INSTR_START> Pour water in pan to 3/4 in and bring to simmer. <NEXT_INSTR> Add chicken , cover and poach over med/low heat for about 12 -15 minutes. <NEXT_INSTR> Put on a plate and refrigerate till cool enough to handle. Then finely dice. <NEXT_INSTR> In a bowl stir all remaining ingredients including the chicken. <NEXT_INSTR> Butter the bread with the softened butter and spread 1 slice with the mixture. Top with remaining slice of bread. Trim the crust and cut the sandwich into triangles or squares for little hands. <NEXT_INSTR> If you want to make ahead , place on a baking sheet and cover with a damp cloth and cover tightly with plastic wrap for up to 24 hours. <INSTR_END> <TITLE_START> Crunchy Chicken Apple Salad Sandwiches <TITLE_END> <RECIPE_END>\\n',\n",
       " '<RECIPE_START> <INPUT_START> raspberry preserves <NEXT_INPUT> olive oil <NEXT_INPUT> white wine vinegar <NEXT_INPUT> mustard <NEXT_INPUT> salt <NEXT_INPUT> scallions <NEXT_INPUT> fresh raspberry <NEXT_INPUT> chicken <NEXT_INPUT> bibb lettuce <INPUT_END> <INGR_START> 1/4 cup raspberry preserves <NEXT_INGR> 2 tablespoons olive oil <NEXT_INGR> 1 tablespoon white wine vinegar <NEXT_INGR> 1 teaspoon Dijon mustard <NEXT_INGR> salt & fresh ground pepper <NEXT_INGR> 2 tablespoons minced scallions <NEXT_INGR> 1 cup fresh raspberry <NEXT_INGR> 4 cooked chicken breast halves, cut into 1-inch pieces <NEXT_INGR> 4 cups chopped bibb lettuce (or butter lettuce) <INGR_END> <INSTR_START> In a medium-size bowl, whisk together raspberry preserves, oil, vinegar, Dijon mustard and salt and pepper. <NEXT_INSTR> Add scallions and raspberries to vinaigrette. Add diced chicken and toss to combine with vinaigrette. <NEXT_INSTR> Arrange lettuce on individual plates. Spoon chicken mixture over lettuce just before serving. <INSTR_END> <TITLE_START> Raspberry Chicken Lettuce Wraps <TITLE_END> <RECIPE_END>\\n']"
      ]
     },
     "execution_count": 81,
     "metadata": {},
     "output_type": "execute_result"
    }
   ],
   "source": [
    "train_chicken_10000[:2]"
   ]
  },
  {
   "cell_type": "code",
   "execution_count": 75,
   "id": "f34a5f98",
   "metadata": {},
   "outputs": [],
   "source": [
    "# Remove '\\n' characters from each line \n",
    "train_chicken = [line.strip().replace('\\n', ' ') for line in train_chicken_10000]"
   ]
  },
  {
   "cell_type": "code",
   "execution_count": 76,
   "id": "916bc695",
   "metadata": {},
   "outputs": [
    {
     "data": {
      "text/plain": [
       "10173"
      ]
     },
     "execution_count": 76,
     "metadata": {},
     "output_type": "execute_result"
    }
   ],
   "source": [
    "len(train_chicken) # strange that there is an additional 173 recipes after reading the json file?"
   ]
  },
  {
   "cell_type": "code",
   "execution_count": 82,
   "id": "57d29824",
   "metadata": {},
   "outputs": [],
   "source": [
    "with open('eval_chicken_10000', 'r', encoding='utf-8') as f:\n",
    "    eval_chicken = f.readlines()\n",
    "    \n",
    "eval_chicken = [line.strip().replace('\\n', ' ') for line in eval_chicken]"
   ]
  },
  {
   "cell_type": "code",
   "execution_count": 83,
   "id": "97f8f8f5",
   "metadata": {},
   "outputs": [
    {
     "data": {
      "text/plain": [
       "103"
      ]
     },
     "execution_count": 83,
     "metadata": {},
     "output_type": "execute_result"
    }
   ],
   "source": [
    "len(eval_chicken)"
   ]
  },
  {
   "cell_type": "code",
   "execution_count": 84,
   "id": "34fc6b39",
   "metadata": {},
   "outputs": [
    {
     "data": {
      "text/plain": [
       "torch.Size([10173, 512])"
      ]
     },
     "execution_count": 84,
     "metadata": {},
     "output_type": "execute_result"
    }
   ],
   "source": [
    "tokenized_recipes = tokenizer(train_chicken, truncation=True, padding='max_length', max_length=512, return_tensors=\"pt\")\n",
    "\n",
    "# Display the shape of the tokenized data for verification\n",
    "tokenized_recipes.input_ids.shape # 10043 recipes with 512 tokens padding with <RECIPE_END>"
   ]
  },
  {
   "cell_type": "code",
   "execution_count": 85,
   "id": "521b0846",
   "metadata": {},
   "outputs": [
    {
     "data": {
      "text/plain": [
       "torch.Size([103, 512])"
      ]
     },
     "execution_count": 85,
     "metadata": {},
     "output_type": "execute_result"
    }
   ],
   "source": [
    "tokenized_eval_recipes = tokenizer(eval_chicken, truncation=True, padding='max_length', max_length=512, return_tensors=\"pt\")\n",
    "\n",
    "tokenized_eval_recipes.input_ids.shape"
   ]
  },
  {
   "cell_type": "code",
   "execution_count": 86,
   "id": "1057bddc",
   "metadata": {},
   "outputs": [
    {
     "data": {
      "text/plain": [
       "'<RECIPE_START> <INPUT_START> chicken breasts <NEXT_INPUT> onion <NEXT_INPUT> celery <NEXT_INPUT> garlic <NEXT_INPUT> whole black peppercorns <NEXT_INPUT> corn tortillas <NEXT_INPUT> vegetable oil <NEXT_INPUT> grated cheese <NEXT_INPUT> green chilies <NEXT_INPUT> light sour cream <NEXT_INPUT> green onions <NEXT_INPUT> cilantro leaf <NEXT_INPUT> clove garlic <INPUT_END> <INGR_START> 3 large boneless skinless chicken breasts <NEXT_INGR> 1 onion, chopped <NEXT_INGR> 2 celery ribs, chopped <NEXT_INGR> 2 cloves garlic, slice <NEXT_INGR> 2 teaspoons whole black peppercorns <NEXT_INGR> 6 corn tortillas, cut into 1 inch strips <NEXT_INGR> 2 tablespoons vegetable oil <NEXT_INGR> 2 cups grated cheese,, cheddar,jack or combination <NEXT_INGR> 1 (4 ounce) candiced roasted green chilies <NEXT_INGR> 1 cup light sour cream <NEXT_INGR> 3 green onions, thinly sliced <NEXT_INGR> 14 cup cilantro leaf, chopped <NEXT_INGR> 1 clove garlic, minced <INGR_END> <INSTR_START> Preheat oven to 350. <NEXT_INSTR> Place chicken,chopped onion,celery,garlic slices and peppercorns in medium saucepan. <NEXT_INSTR> Cover with water and bring to boil over high heat. <NEXT_INSTR> Reduce heat and let simmer 20 minutes. <NEXT_INSTR> Remove chicken and cool slightly,Shred chicken. <NEXT_INSTR> Toss tortilla strips and oil in large bowl. <NEXT_INSTR> Arrange on baking sheet and bake until crisp (about 10 minutes) Let cool slightly. <NEXT_INSTR> Transfer chicken to large bowl. <NEXT_INSTR> Add tortilla strips,cheese and chilis. <NEXT_INSTR> Stir to coat well. <NEXT_INSTR> Pour into 8x8 baking pan. <NEXT_INSTR> Combine sour cream,green onion,cilantro and garlic. <NEXT_INSTR> Mix well. <NEXT_INSTR> Spread sour cream mixture over chicken. <NEXT_INSTR> Bake until cheese melts,about 20 minutes. <INSTR_END> <TITLE_START> Chicken and Tortillas in Chili-Cheese Sauce <TITLE_END> <RECIPE_END> <RECIPE_END> <RECIPE_END> <RECIPE_END> <RECIPE_END> <RECIPE_END> <RECIPE_END> <RECIPE_END> <RECIPE_END> <RECIPE_END> <RECIPE_END> <RECIPE_END> <RECIPE_END> <RECIPE_END> <RECIPE_END> <RECIPE_END> <RECIPE_END> <RECIPE_END> <RECIPE_END> <RECIPE_END> <RECIPE_END> <RECIPE_END> <RECIPE_END> <RECIPE_END> <RECIPE_END> <RECIPE_END> <RECIPE_END> <RECIPE_END> <RECIPE_END> <RECIPE_END> <RECIPE_END> <RECIPE_END> <RECIPE_END> <RECIPE_END> <RECIPE_END> <RECIPE_END> <RECIPE_END> <RECIPE_END> <RECIPE_END> <RECIPE_END> <RECIPE_END> <RECIPE_END> <RECIPE_END> <RECIPE_END> <RECIPE_END> <RECIPE_END> <RECIPE_END> <RECIPE_END> <RECIPE_END> <RECIPE_END> <RECIPE_END> <RECIPE_END> <RECIPE_END> <RECIPE_END> <RECIPE_END> <RECIPE_END> <RECIPE_END> <RECIPE_END> <RECIPE_END> <RECIPE_END> <RECIPE_END> <RECIPE_END> <RECIPE_END> <RECIPE_END> <RECIPE_END> <RECIPE_END> <RECIPE_END> <RECIPE_END> <RECIPE_END> <RECIPE_END> <RECIPE_END> <RECIPE_END> <RECIPE_END> <RECIPE_END> <RECIPE_END> <RECIPE_END> <RECIPE_END> <RECIPE_END> <RECIPE_END> <RECIPE_END> <RECIPE_END> <RECIPE_END> <RECIPE_END> <RECIPE_END> <RECIPE_END> <RECIPE_END> <RECIPE_END> <RECIPE_END> <RECIPE_END> <RECIPE_END> <RECIPE_END> <RECIPE_END> <RECIPE_END> <RECIPE_END> <RECIPE_END> <RECIPE_END> <RECIPE_END> <RECIPE_END> <RECIPE_END> <RECIPE_END> <RECIPE_END> <RECIPE_END> <RECIPE_END> <RECIPE_END> <RECIPE_END> <RECIPE_END> <RECIPE_END> <RECIPE_END> <RECIPE_END> <RECIPE_END> <RECIPE_END> <RECIPE_END> <RECIPE_END> <RECIPE_END> <RECIPE_END> <RECIPE_END> <RECIPE_END> <RECIPE_END> <RECIPE_END> <RECIPE_END> <RECIPE_END> <RECIPE_END> <RECIPE_END> <RECIPE_END> <RECIPE_END> <RECIPE_END> <RECIPE_END> <RECIPE_END> <RECIPE_END> <RECIPE_END> <RECIPE_END> <RECIPE_END> <RECIPE_END> <RECIPE_END> <RECIPE_END> <RECIPE_END> <RECIPE_END> <RECIPE_END> <RECIPE_END> <RECIPE_END> <RECIPE_END> <RECIPE_END> <RECIPE_END> <RECIPE_END> <RECIPE_END> <RECIPE_END> <RECIPE_END> <RECIPE_END> <RECIPE_END> <RECIPE_END> <RECIPE_END> <RECIPE_END> <RECIPE_END> <RECIPE_END> <RECIPE_END> <RECIPE_END> <RECIPE_END> <RECIPE_END> <RECIPE_END> <RECIPE_END> <RECIPE_END> <RECIPE_END> <RECIPE_END> <RECIPE_END> <RECIPE_END> <RECIPE_END> <RECIPE_END> <RECIPE_END> <RECIPE_END>'"
      ]
     },
     "execution_count": 86,
     "metadata": {},
     "output_type": "execute_result"
    }
   ],
   "source": [
    "# Check that padding works\n",
    "sample_recipe = tokenized_recipes[\"input_ids\"][2] # 2nd recipe\n",
    "\n",
    "# Decode the tokenized recipe back to text\n",
    "decoded_recipe = tokenizer.decode(sample_recipe, skip_special_tokens=False)\n",
    "\n",
    "# Print the decoded recipe\n",
    "decoded_recipe"
   ]
  },
  {
   "cell_type": "code",
   "execution_count": 259,
   "id": "caed0d9b",
   "metadata": {},
   "outputs": [],
   "source": [
    "print(tokenizer.special_tokens_map)"
   ]
  },
  {
   "cell_type": "markdown",
   "id": "df4e4087",
   "metadata": {},
   "source": [
    "# Model Fine-tuning "
   ]
  },
  {
   "cell_type": "code",
   "execution_count": 87,
   "id": "a6a4e5f3",
   "metadata": {},
   "outputs": [
    {
     "data": {
      "text/plain": [
       "Embedding(50271, 768)"
      ]
     },
     "execution_count": 87,
     "metadata": {},
     "output_type": "execute_result"
    }
   ],
   "source": [
    "model = GPT2LMHeadModel.from_pretrained(\"gpt2\")\n",
    "# 50270 is the vocab size of gpt2-medium, 768 is the emdbedding of each token\n",
    "model.resize_token_embeddings(len(tokenizer)) "
   ]
  },
  {
   "cell_type": "code",
   "execution_count": null,
   "id": "75232515",
   "metadata": {},
   "outputs": [],
   "source": [
    "# Training parameters\n",
    "\n",
    "# Original\n",
    "\n",
    "num_epochs = 3\n",
    "batch_size = 4\n",
    "\n",
    "\n",
    "model_name = \"gpt2_finetuned_10000recipe_chicken\"\n",
    "training_args = TrainingArguments(output_dir = model_name, \n",
    "                                   learning_rate= 0.0003, # optimised lr based on trial & error\n",
    "                                  num_train_epochs=num_epochs, # number of training epoch\n",
    "                                   per_device_train_batch_size=batch_size,\n",
    "                                   per_device_eval_batch_size=batch_size,\n",
    "                                   weight_decay=0.01, # apply L2 regularization\n",
    "                                   evaluation_strategy=\"epoch\", # evaluate the model at the end of each epoch\n",
    "                                   disable_tqdm=False, # progress bars will be shown during training, True = no show\n",
    "                                  warmup_steps=500, # number of warmup steps for learning rate scheduler\n",
    "                                   logging_steps=1000, # frequency of logging\n",
    "                                  push_to_hub=True,\n",
    "                                   log_level=\"error\", # only errors will be logged, can set to levels - info, warning\n",
    "                                    do_train=True,\n",
    "                                    do_eval=True) "
   ]
  },
  {
   "cell_type": "code",
   "execution_count": 88,
   "id": "624a5793",
   "metadata": {},
   "outputs": [],
   "source": [
    "# Training parameters\n",
    "\n",
    "# 28 September 2023\n",
    "# This is a new trial using training data/ eval data with no duplicate titles\n",
    "# Performance was higher than df with duplicates\n",
    "\n",
    "num_epochs = 3\n",
    "batch_size = 4\n",
    "\n",
    "\n",
    "model_name = \"gpt2_finetuned_new_10000recipe_chicken\"\n",
    "training_args = TrainingArguments(output_dir = model_name, \n",
    "                                   learning_rate= 0.0003, # optimised lr based on trial & error\n",
    "                                  num_train_epochs=num_epochs, # number of training epoch\n",
    "                                   per_device_train_batch_size=batch_size,\n",
    "                                   per_device_eval_batch_size=batch_size,\n",
    "                                   weight_decay=0.01, # apply L2 regularization\n",
    "                                   evaluation_strategy=\"epoch\", # evaluate the model at the end of each epoch\n",
    "                                   disable_tqdm=False, # progress bars will be shown during training, True = no show\n",
    "                                  warmup_steps=500, # number of warmup steps for learning rate scheduler\n",
    "                                   logging_steps=1000, # frequency of logging\n",
    "                                  push_to_hub=True,\n",
    "                                   log_level=\"error\", # only errors will be logged, can set to levels - info, warning\n",
    "                                    do_train=True,\n",
    "                                    do_eval=True) "
   ]
  },
  {
   "cell_type": "code",
   "execution_count": 89,
   "id": "f52ab116",
   "metadata": {},
   "outputs": [
    {
     "data": {
      "application/vnd.jupyter.widget-view+json": {
       "model_id": "b1be3cd4102042bd991cfcc0299d0ab1",
       "version_major": 2,
       "version_minor": 0
      },
      "text/plain": [
       "VBox(children=(HTML(value='<center> <img\\nsrc=https://huggingface.co/front/assets/huggingface_logo-noborder.sv…"
      ]
     },
     "metadata": {},
     "output_type": "display_data"
    }
   ],
   "source": [
    "# save the model in huggingface\n",
    "\n",
    "from huggingface_hub import notebook_login\n",
    "\n",
    "notebook_login()"
   ]
  },
  {
   "cell_type": "code",
   "execution_count": 90,
   "id": "f82732d0",
   "metadata": {},
   "outputs": [
    {
     "name": "stderr",
     "output_type": "stream",
     "text": [
      "Cloning https://huggingface.co/JunF1122/gpt2_finetuned_new_10000recipe_chicken into local empty directory.\n",
      "C:\\Users\\junfe\\anaconda3\\lib\\site-packages\\transformers\\optimization.py:411: FutureWarning: This implementation of AdamW is deprecated and will be removed in a future version. Use the PyTorch implementation torch.optim.AdamW instead, or set `no_deprecation_warning=True` to disable this warning\n",
      "  warnings.warn(\n"
     ]
    },
    {
     "data": {
      "text/html": [
       "\n",
       "    <div>\n",
       "      \n",
       "      <progress value='7632' max='7632' style='width:300px; height:20px; vertical-align: middle;'></progress>\n",
       "      [7632/7632 32:28:23, Epoch 3/3]\n",
       "    </div>\n",
       "    <table border=\"1\" class=\"dataframe\">\n",
       "  <thead>\n",
       " <tr style=\"text-align: left;\">\n",
       "      <th>Epoch</th>\n",
       "      <th>Training Loss</th>\n",
       "      <th>Validation Loss</th>\n",
       "    </tr>\n",
       "  </thead>\n",
       "  <tbody>\n",
       "    <tr>\n",
       "      <td>1</td>\n",
       "      <td>1.941400</td>\n",
       "      <td>1.819789</td>\n",
       "    </tr>\n",
       "    <tr>\n",
       "      <td>2</td>\n",
       "      <td>1.615400</td>\n",
       "      <td>1.705594</td>\n",
       "    </tr>\n",
       "    <tr>\n",
       "      <td>3</td>\n",
       "      <td>1.435100</td>\n",
       "      <td>1.676048</td>\n",
       "    </tr>\n",
       "  </tbody>\n",
       "</table><p>"
      ],
      "text/plain": [
       "<IPython.core.display.HTML object>"
      ]
     },
     "metadata": {},
     "output_type": "display_data"
    },
    {
     "data": {
      "text/plain": [
       "TrainOutput(global_step=7632, training_loss=1.8605120037086855, metrics={'train_runtime': 116924.6205, 'train_samples_per_second': 0.261, 'train_steps_per_second': 0.065, 'total_flos': 7974371524608000.0, 'train_loss': 1.8605120037086855, 'epoch': 3.0})"
      ]
     },
     "execution_count": 90,
     "metadata": {},
     "output_type": "execute_result"
    }
   ],
   "source": [
    "from transformers import DataCollatorForLanguageModeling, Trainer\n",
    "\n",
    "data_collator = DataCollatorForLanguageModeling(\n",
    "    tokenizer=tokenizer,\n",
    "    mlm=False\n",
    ")\n",
    "trainer = Trainer(\n",
    "    model=model,\n",
    "    args=training_args,\n",
    "    data_collator=data_collator,\n",
    "    train_dataset=tokenized_recipes[\"input_ids\"],\n",
    "    eval_dataset=tokenized_eval_recipes['input_ids']\n",
    ")\n",
    "\n",
    "\n",
    "trainer.train()\n",
    "\n",
    "# The value below is a different model from presentation, it is a trial for any improvement"
   ]
  },
  {
   "cell_type": "code",
   "execution_count": 91,
   "id": "43005147",
   "metadata": {},
   "outputs": [
    {
     "data": {
      "application/vnd.jupyter.widget-view+json": {
       "model_id": "4874938b98a347a1af12b120e79c95cf",
       "version_major": 2,
       "version_minor": 0
      },
      "text/plain": [
       "Upload file pytorch_model.bin:   0%|          | 1.00/475M [00:00<?, ?B/s]"
      ]
     },
     "metadata": {},
     "output_type": "display_data"
    },
    {
     "data": {
      "application/vnd.jupyter.widget-view+json": {
       "model_id": "e8932e974f34478b83aecd478362dd51",
       "version_major": 2,
       "version_minor": 0
      },
      "text/plain": [
       "Upload file runs/Sep28_20-40-05_JunFeng/events.out.tfevents.1695904855.JunFeng.27144.0:   0%|          | 1.00/…"
      ]
     },
     "metadata": {},
     "output_type": "display_data"
    },
    {
     "name": "stderr",
     "output_type": "stream",
     "text": [
      "To https://huggingface.co/JunF1122/gpt2_finetuned_new_10000recipe_chicken\n",
      "   2761308..4caeee9  main -> main\n",
      "\n",
      "To https://huggingface.co/JunF1122/gpt2_finetuned_new_10000recipe_chicken\n",
      "   4caeee9..59fba67  main -> main\n",
      "\n"
     ]
    },
    {
     "data": {
      "text/plain": [
       "'https://huggingface.co/JunF1122/gpt2_finetuned_new_10000recipe_chicken/commit/4caeee975233d2785d85c90db885cbe2f87ccdbe'"
      ]
     },
     "execution_count": 91,
     "metadata": {},
     "output_type": "execute_result"
    }
   ],
   "source": [
    "# push to HuggingFace Repository\n",
    "trainer.push_to_hub(commit_message=\"Training completed!\")"
   ]
  },
  {
   "cell_type": "code",
   "execution_count": 92,
   "id": "a0e150dc",
   "metadata": {},
   "outputs": [
    {
     "data": {
      "text/plain": [
       "('path/to/save/tokenizer\\\\tokenizer_config.json',\n",
       " 'path/to/save/tokenizer\\\\special_tokens_map.json',\n",
       " 'path/to/save/tokenizer\\\\vocab.json',\n",
       " 'path/to/save/tokenizer\\\\merges.txt',\n",
       " 'path/to/save/tokenizer\\\\added_tokens.json')"
      ]
     },
     "execution_count": 92,
     "metadata": {},
     "output_type": "execute_result"
    }
   ],
   "source": [
    "# Remember to upload into HUggingFace Model card once Training is completed\n",
    "tokenizer.save_pretrained(\"path/to/save/tokenizer\")"
   ]
  },
  {
   "cell_type": "markdown",
   "id": "a451faf9",
   "metadata": {},
   "source": [
    "# Experimenting with learning rate\n",
    "\n",
    "    - lowest validation loss should be preferred\n",
    "    - Please do not run the code below\n",
    "    - Results of learning rate experimentation\n",
    "    - lr = 0.0003 has the lowest eval_loss\n",
    "\n",
    "Evaluation loss (which is a measure of how well the model is predicting the next token in the sequence) is decreasing as the learning rate increases initially and reaches a minimum at a learning rate of 0.0003. After this point, increasing the learning rate further leads to an increase in the evaluation loss, indicating that a learning rate higher than 0.0003 is making the model perform worse on the validation dataset.\n",
    "\n",
    "Hence we will use lr=0.0003 for our learning rate for the model"
   ]
  },
  {
   "cell_type": "code",
   "execution_count": 132,
   "id": "999e8c63",
   "metadata": {},
   "outputs": [
    {
     "data": {
      "text/html": [
       "\n",
       "    <div>\n",
       "      \n",
       "      <progress value='603' max='603' style='width:300px; height:20px; vertical-align: middle;'></progress>\n",
       "      [603/603 2:49:51, Epoch 3/3]\n",
       "    </div>\n",
       "    <table border=\"1\" class=\"dataframe\">\n",
       "  <thead>\n",
       " <tr style=\"text-align: left;\">\n",
       "      <th>Epoch</th>\n",
       "      <th>Training Loss</th>\n",
       "      <th>Validation Loss</th>\n",
       "    </tr>\n",
       "  </thead>\n",
       "  <tbody>\n",
       "    <tr>\n",
       "      <td>1</td>\n",
       "      <td>2.930200</td>\n",
       "      <td>2.764496</td>\n",
       "    </tr>\n",
       "    <tr>\n",
       "      <td>2</td>\n",
       "      <td>2.785500</td>\n",
       "      <td>2.638040</td>\n",
       "    </tr>\n",
       "    <tr>\n",
       "      <td>3</td>\n",
       "      <td>2.607000</td>\n",
       "      <td>2.505949</td>\n",
       "    </tr>\n",
       "  </tbody>\n",
       "</table><p>"
      ],
      "text/plain": [
       "<IPython.core.display.HTML object>"
      ]
     },
     "metadata": {},
     "output_type": "display_data"
    },
    {
     "data": {
      "text/html": [
       "\n",
       "    <div>\n",
       "      \n",
       "      <progress value='50' max='50' style='width:300px; height:20px; vertical-align: middle;'></progress>\n",
       "      [50/50 03:44]\n",
       "    </div>\n",
       "    "
      ],
      "text/plain": [
       "<IPython.core.display.HTML object>"
      ]
     },
     "metadata": {},
     "output_type": "display_data"
    },
    {
     "name": "stderr",
     "output_type": "stream",
     "text": [
      "C:\\Users\\junfe\\anaconda3\\lib\\site-packages\\transformers\\optimization.py:411: FutureWarning: This implementation of AdamW is deprecated and will be removed in a future version. Use the PyTorch implementation torch.optim.AdamW instead, or set `no_deprecation_warning=True` to disable this warning\n",
      "  warnings.warn(\n"
     ]
    },
    {
     "data": {
      "text/html": [
       "\n",
       "    <div>\n",
       "      \n",
       "      <progress value='603' max='603' style='width:300px; height:20px; vertical-align: middle;'></progress>\n",
       "      [603/603 2:31:22, Epoch 3/3]\n",
       "    </div>\n",
       "    <table border=\"1\" class=\"dataframe\">\n",
       "  <thead>\n",
       " <tr style=\"text-align: left;\">\n",
       "      <th>Epoch</th>\n",
       "      <th>Training Loss</th>\n",
       "      <th>Validation Loss</th>\n",
       "    </tr>\n",
       "  </thead>\n",
       "  <tbody>\n",
       "    <tr>\n",
       "      <td>1</td>\n",
       "      <td>2.893700</td>\n",
       "      <td>2.669133</td>\n",
       "    </tr>\n",
       "    <tr>\n",
       "      <td>2</td>\n",
       "      <td>2.628000</td>\n",
       "      <td>2.430646</td>\n",
       "    </tr>\n",
       "    <tr>\n",
       "      <td>3</td>\n",
       "      <td>2.362600</td>\n",
       "      <td>2.288601</td>\n",
       "    </tr>\n",
       "  </tbody>\n",
       "</table><p>"
      ],
      "text/plain": [
       "<IPython.core.display.HTML object>"
      ]
     },
     "metadata": {},
     "output_type": "display_data"
    },
    {
     "data": {
      "text/html": [
       "\n",
       "    <div>\n",
       "      \n",
       "      <progress value='50' max='50' style='width:300px; height:20px; vertical-align: middle;'></progress>\n",
       "      [50/50 04:17]\n",
       "    </div>\n",
       "    "
      ],
      "text/plain": [
       "<IPython.core.display.HTML object>"
      ]
     },
     "metadata": {},
     "output_type": "display_data"
    },
    {
     "name": "stderr",
     "output_type": "stream",
     "text": [
      "C:\\Users\\junfe\\anaconda3\\lib\\site-packages\\transformers\\optimization.py:411: FutureWarning: This implementation of AdamW is deprecated and will be removed in a future version. Use the PyTorch implementation torch.optim.AdamW instead, or set `no_deprecation_warning=True` to disable this warning\n",
      "  warnings.warn(\n"
     ]
    },
    {
     "data": {
      "text/html": [
       "\n",
       "    <div>\n",
       "      \n",
       "      <progress value='603' max='603' style='width:300px; height:20px; vertical-align: middle;'></progress>\n",
       "      [603/603 2:53:52, Epoch 3/3]\n",
       "    </div>\n",
       "    <table border=\"1\" class=\"dataframe\">\n",
       "  <thead>\n",
       " <tr style=\"text-align: left;\">\n",
       "      <th>Epoch</th>\n",
       "      <th>Training Loss</th>\n",
       "      <th>Validation Loss</th>\n",
       "    </tr>\n",
       "  </thead>\n",
       "  <tbody>\n",
       "    <tr>\n",
       "      <td>1</td>\n",
       "      <td>2.804200</td>\n",
       "      <td>2.469405</td>\n",
       "    </tr>\n",
       "    <tr>\n",
       "      <td>2</td>\n",
       "      <td>2.418000</td>\n",
       "      <td>2.263356</td>\n",
       "    </tr>\n",
       "    <tr>\n",
       "      <td>3</td>\n",
       "      <td>2.135100</td>\n",
       "      <td>2.112924</td>\n",
       "    </tr>\n",
       "  </tbody>\n",
       "</table><p>"
      ],
      "text/plain": [
       "<IPython.core.display.HTML object>"
      ]
     },
     "metadata": {},
     "output_type": "display_data"
    },
    {
     "data": {
      "text/html": [
       "\n",
       "    <div>\n",
       "      \n",
       "      <progress value='50' max='50' style='width:300px; height:20px; vertical-align: middle;'></progress>\n",
       "      [50/50 04:33]\n",
       "    </div>\n",
       "    "
      ],
      "text/plain": [
       "<IPython.core.display.HTML object>"
      ]
     },
     "metadata": {},
     "output_type": "display_data"
    },
    {
     "name": "stderr",
     "output_type": "stream",
     "text": [
      "C:\\Users\\junfe\\anaconda3\\lib\\site-packages\\transformers\\optimization.py:411: FutureWarning: This implementation of AdamW is deprecated and will be removed in a future version. Use the PyTorch implementation torch.optim.AdamW instead, or set `no_deprecation_warning=True` to disable this warning\n",
      "  warnings.warn(\n"
     ]
    },
    {
     "data": {
      "text/html": [
       "\n",
       "    <div>\n",
       "      \n",
       "      <progress value='603' max='603' style='width:300px; height:20px; vertical-align: middle;'></progress>\n",
       "      [603/603 2:46:50, Epoch 3/3]\n",
       "    </div>\n",
       "    <table border=\"1\" class=\"dataframe\">\n",
       "  <thead>\n",
       " <tr style=\"text-align: left;\">\n",
       "      <th>Epoch</th>\n",
       "      <th>Training Loss</th>\n",
       "      <th>Validation Loss</th>\n",
       "    </tr>\n",
       "  </thead>\n",
       "  <tbody>\n",
       "    <tr>\n",
       "      <td>1</td>\n",
       "      <td>2.708700</td>\n",
       "      <td>2.379391</td>\n",
       "    </tr>\n",
       "    <tr>\n",
       "      <td>2</td>\n",
       "      <td>2.268600</td>\n",
       "      <td>2.227532</td>\n",
       "    </tr>\n",
       "    <tr>\n",
       "      <td>3</td>\n",
       "      <td>1.970100</td>\n",
       "      <td>2.052341</td>\n",
       "    </tr>\n",
       "  </tbody>\n",
       "</table><p>"
      ],
      "text/plain": [
       "<IPython.core.display.HTML object>"
      ]
     },
     "metadata": {},
     "output_type": "display_data"
    },
    {
     "data": {
      "text/html": [
       "\n",
       "    <div>\n",
       "      \n",
       "      <progress value='50' max='50' style='width:300px; height:20px; vertical-align: middle;'></progress>\n",
       "      [50/50 04:50]\n",
       "    </div>\n",
       "    "
      ],
      "text/plain": [
       "<IPython.core.display.HTML object>"
      ]
     },
     "metadata": {},
     "output_type": "display_data"
    },
    {
     "name": "stderr",
     "output_type": "stream",
     "text": [
      "C:\\Users\\junfe\\anaconda3\\lib\\site-packages\\transformers\\optimization.py:411: FutureWarning: This implementation of AdamW is deprecated and will be removed in a future version. Use the PyTorch implementation torch.optim.AdamW instead, or set `no_deprecation_warning=True` to disable this warning\n",
      "  warnings.warn(\n"
     ]
    },
    {
     "data": {
      "text/html": [
       "\n",
       "    <div>\n",
       "      \n",
       "      <progress value='603' max='603' style='width:300px; height:20px; vertical-align: middle;'></progress>\n",
       "      [603/603 2:37:18, Epoch 3/3]\n",
       "    </div>\n",
       "    <table border=\"1\" class=\"dataframe\">\n",
       "  <thead>\n",
       " <tr style=\"text-align: left;\">\n",
       "      <th>Epoch</th>\n",
       "      <th>Training Loss</th>\n",
       "      <th>Validation Loss</th>\n",
       "    </tr>\n",
       "  </thead>\n",
       "  <tbody>\n",
       "    <tr>\n",
       "      <td>1</td>\n",
       "      <td>2.649500</td>\n",
       "      <td>2.481249</td>\n",
       "    </tr>\n",
       "    <tr>\n",
       "      <td>2</td>\n",
       "      <td>2.253500</td>\n",
       "      <td>2.343010</td>\n",
       "    </tr>\n",
       "    <tr>\n",
       "      <td>3</td>\n",
       "      <td>1.993300</td>\n",
       "      <td>2.136761</td>\n",
       "    </tr>\n",
       "  </tbody>\n",
       "</table><p>"
      ],
      "text/plain": [
       "<IPython.core.display.HTML object>"
      ]
     },
     "metadata": {},
     "output_type": "display_data"
    },
    {
     "data": {
      "text/html": [
       "\n",
       "    <div>\n",
       "      \n",
       "      <progress value='50' max='50' style='width:300px; height:20px; vertical-align: middle;'></progress>\n",
       "      [50/50 04:16]\n",
       "    </div>\n",
       "    "
      ],
      "text/plain": [
       "<IPython.core.display.HTML object>"
      ]
     },
     "metadata": {},
     "output_type": "display_data"
    },
    {
     "name": "stderr",
     "output_type": "stream",
     "text": [
      "C:\\Users\\junfe\\anaconda3\\lib\\site-packages\\transformers\\optimization.py:411: FutureWarning: This implementation of AdamW is deprecated and will be removed in a future version. Use the PyTorch implementation torch.optim.AdamW instead, or set `no_deprecation_warning=True` to disable this warning\n",
      "  warnings.warn(\n"
     ]
    },
    {
     "data": {
      "text/html": [
       "\n",
       "    <div>\n",
       "      \n",
       "      <progress value='603' max='603' style='width:300px; height:20px; vertical-align: middle;'></progress>\n",
       "      [603/603 2:40:15, Epoch 3/3]\n",
       "    </div>\n",
       "    <table border=\"1\" class=\"dataframe\">\n",
       "  <thead>\n",
       " <tr style=\"text-align: left;\">\n",
       "      <th>Epoch</th>\n",
       "      <th>Training Loss</th>\n",
       "      <th>Validation Loss</th>\n",
       "    </tr>\n",
       "  </thead>\n",
       "  <tbody>\n",
       "    <tr>\n",
       "      <td>1</td>\n",
       "      <td>2.735500</td>\n",
       "      <td>2.636031</td>\n",
       "    </tr>\n",
       "    <tr>\n",
       "      <td>2</td>\n",
       "      <td>2.492200</td>\n",
       "      <td>2.734470</td>\n",
       "    </tr>\n",
       "    <tr>\n",
       "      <td>3</td>\n",
       "      <td>2.243700</td>\n",
       "      <td>2.368418</td>\n",
       "    </tr>\n",
       "  </tbody>\n",
       "</table><p>"
      ],
      "text/plain": [
       "<IPython.core.display.HTML object>"
      ]
     },
     "metadata": {},
     "output_type": "display_data"
    },
    {
     "data": {
      "text/html": [
       "\n",
       "    <div>\n",
       "      \n",
       "      <progress value='50' max='50' style='width:300px; height:20px; vertical-align: middle;'></progress>\n",
       "      [50/50 04:17]\n",
       "    </div>\n",
       "    "
      ],
      "text/plain": [
       "<IPython.core.display.HTML object>"
      ]
     },
     "metadata": {},
     "output_type": "display_data"
    }
   ],
   "source": [
    "## 10 September 2023\n",
    "\n",
    "# Training parameters\n",
    "num_epochs = 3\n",
    "batch_size = 4\n",
    "learning_rates = [1e-5, 3e-5, 1e-4, 3e-4, 1e-3, 3e-3]\n",
    "\n",
    "initial_model_path = \"path/to/save/initial/model\"\n",
    "model.save_pretrained(initial_model_path)\n",
    "\n",
    "data_collator = DataCollatorForLanguageModeling(\n",
    "    tokenizer=tokenizer,\n",
    "    mlm=False)\n",
    "\n",
    "# Load your initial model\n",
    "initial_model = model\n",
    "evaluation_results = []\n",
    "\n",
    "\n",
    "for lr in learning_rates:\n",
    "    # Set the learning rate in the training arguments\n",
    "    training_args = TrainingArguments(\n",
    "        output_dir=f'./results_lr_{lr}',\n",
    "        learning_rate=lr,\n",
    "        num_train_epochs=num_epochs,\n",
    "        per_device_train_batch_size=batch_size,\n",
    "        per_device_eval_batch_size=batch_size,\n",
    "        weight_decay=0.01, # apply L2 regularization\n",
    "        evaluation_strategy=\"epoch\", # evaluate the model at the end of each epoch\n",
    "        disable_tqdm=False, # progress bars will be shown during training, True = no show\n",
    "        warmup_steps=500,                # number of warmup steps for learning rate scheduler\n",
    "        logging_steps=200, # frequency of logging since 800/4 = 200\n",
    "        push_to_hub=False, # as we are experimenting only push_to_hub for best lr\n",
    "        log_level=\"error\",\n",
    "        do_train=True,\n",
    "        do_eval=True)\n",
    "\n",
    "    # Reset the model to its initial state\n",
    "    model = GPT2LMHeadModel.from_pretrained(initial_model_path) # goes back to gpt2-small\n",
    "\n",
    "    # Initialize the trainer with the current learning rate\n",
    "    trainer = Trainer(\n",
    "        model=model,\n",
    "        args=training_args,\n",
    "        train_dataset=tokenized_recipes[\"input_ids\"],\n",
    "        eval_dataset=tokenized_eval_recipes['input_ids'],\n",
    "        data_collator=data_collator,\n",
    "    )\n",
    "    \n",
    "    # Train the model with the current learning rate\n",
    "    trainer.train()\n",
    "    \n",
    "    # Evaluate the model on the validation dataset\n",
    "    eval_results = trainer.evaluate(tokenized_eval_recipes['input_ids'])\n",
    "    \n",
    "    # Log the results\n",
    "    evaluation_results.append((lr, eval_results))\n",
    "    \n",
    "    # Save the model\n",
    "    model.save_pretrained(f'./models_lr_{lr}')\n",
    "\n",
    "# Print or save the evaluation results to analyze later\n",
    "for lr, eval_results in evaluation_results:\n",
    "    print(f'Learning rate: {lr}, Eval results: {eval_results}') # lowest validation loss is the best usally"
   ]
  },
  {
   "cell_type": "code",
   "execution_count": 141,
   "id": "2886761f",
   "metadata": {
    "scrolled": true
   },
   "outputs": [
    {
     "data": {
      "text/plain": [
       "[(1e-05,\n",
       "  {'eval_loss': 2.505949020385742,\n",
       "   'eval_runtime': 229.0087,\n",
       "   'eval_samples_per_second': 0.873,\n",
       "   'eval_steps_per_second': 0.218,\n",
       "   'epoch': 3.0}),\n",
       " (3e-05,\n",
       "  {'eval_loss': 2.2886009216308594,\n",
       "   'eval_runtime': 262.5166,\n",
       "   'eval_samples_per_second': 0.762,\n",
       "   'eval_steps_per_second': 0.19,\n",
       "   'epoch': 3.0}),\n",
       " (0.0001,\n",
       "  {'eval_loss': 2.1129236221313477,\n",
       "   'eval_runtime': 279.1143,\n",
       "   'eval_samples_per_second': 0.717,\n",
       "   'eval_steps_per_second': 0.179,\n",
       "   'epoch': 3.0}),\n",
       " (0.0003,\n",
       "  {'eval_loss': 2.0523412227630615,\n",
       "   'eval_runtime': 297.3489,\n",
       "   'eval_samples_per_second': 0.673,\n",
       "   'eval_steps_per_second': 0.168,\n",
       "   'epoch': 3.0}),\n",
       " (0.001,\n",
       "  {'eval_loss': 2.136761426925659,\n",
       "   'eval_runtime': 261.844,\n",
       "   'eval_samples_per_second': 0.764,\n",
       "   'eval_steps_per_second': 0.191,\n",
       "   'epoch': 3.0}),\n",
       " (0.003,\n",
       "  {'eval_loss': 2.368417739868164,\n",
       "   'eval_runtime': 262.7606,\n",
       "   'eval_samples_per_second': 0.761,\n",
       "   'eval_steps_per_second': 0.19,\n",
       "   'epoch': 3.0})]"
      ]
     },
     "execution_count": 141,
     "metadata": {},
     "output_type": "execute_result"
    }
   ],
   "source": [
    "evaluation_results"
   ]
  },
  {
   "cell_type": "raw",
   "id": "945db8fb",
   "metadata": {},
   "source": [
    "Result of different Learning Rates\n",
    "\n",
    "[(1e-05,\n",
    "  {'eval_loss': 2.505949020385742,\n",
    "   'eval_runtime': 229.0087,\n",
    "   'eval_samples_per_second': 0.873,\n",
    "   'eval_steps_per_second': 0.218,\n",
    "   'epoch': 3.0}),\n",
    " (3e-05,\n",
    "  {'eval_loss': 2.2886009216308594,\n",
    "   'eval_runtime': 262.5166,\n",
    "   'eval_samples_per_second': 0.762,\n",
    "   'eval_steps_per_second': 0.19,\n",
    "   'epoch': 3.0}),\n",
    " (0.0001,\n",
    "  {'eval_loss': 2.1129236221313477,\n",
    "   'eval_runtime': 279.1143,\n",
    "   'eval_samples_per_second': 0.717,\n",
    "   'eval_steps_per_second': 0.179,\n",
    "   'epoch': 3.0}),\n",
    " (0.0003,\n",
    "  {'eval_loss': 2.0523412227630615,\n",
    "   'eval_runtime': 297.3489,\n",
    "   'eval_samples_per_second': 0.673,\n",
    "   'eval_steps_per_second': 0.168,\n",
    "   'epoch': 3.0}),\n",
    " (0.001,\n",
    "  {'eval_loss': 2.136761426925659,\n",
    "   'eval_runtime': 261.844,\n",
    "   'eval_samples_per_second': 0.764,\n",
    "   'eval_steps_per_second': 0.191,\n",
    "   'epoch': 3.0}),\n",
    " (0.003,\n",
    "  {'eval_loss': 2.368417739868164,\n",
    "   'eval_runtime': 262.7606,\n",
    "   'eval_samples_per_second': 0.761,\n",
    "   'eval_steps_per_second': 0.19,\n",
    "   'epoch': 3.0})]"
   ]
  },
  {
   "cell_type": "code",
   "execution_count": 168,
   "id": "60cad7a1",
   "metadata": {},
   "outputs": [
    {
     "data": {
      "text/plain": [
       "{'bos_token': '<|endoftext|>',\n",
       " 'eos_token': '<|endoftext|>',\n",
       " 'unk_token': '<|endoftext|>',\n",
       " 'pad_token': '<RECIPE_END>',\n",
       " 'additional_special_tokens': ['<TITLE_START>',\n",
       "  '<TITLE_END>',\n",
       "  '<INSTR_START>',\n",
       "  '<NEXT_INSTR>',\n",
       "  '<INSTR_END>',\n",
       "  '<INGR_START>',\n",
       "  '<NEXT_INGR>',\n",
       "  '<INGR_END>',\n",
       "  '<RECIPE_START>',\n",
       "  '<RECIPE_END>',\n",
       "  '<INPUT_START>',\n",
       "  '<INPUT_END>',\n",
       "  '<NEXT_INPUT>']}"
      ]
     },
     "execution_count": 168,
     "metadata": {},
     "output_type": "execute_result"
    }
   ],
   "source": [
    "tokenizer.special_tokens_map"
   ]
  },
  {
   "cell_type": "markdown",
   "id": "ba5650a6",
   "metadata": {},
   "source": [
    "# Load the trained Model from HuggingFace"
   ]
  },
  {
   "cell_type": "code",
   "execution_count": 179,
   "id": "1a522031",
   "metadata": {},
   "outputs": [],
   "source": [
    "# Remember to upload the tokenizer to hugging face\n",
    "\n",
    "from transformers import AutoTokenizer, AutoModelForCausalLM\n",
    "\n",
    "tokenizer_hug = AutoTokenizer.from_pretrained(\"JunF1122/gpt2_finetuned_10000recipe_chicken\")\n",
    "model_hug = AutoModelForCausalLM.from_pretrained(\"JunF1122/gpt2_finetuned_10000recipe_chicken\")"
   ]
  },
  {
   "cell_type": "code",
   "execution_count": 180,
   "id": "507cb3f5",
   "metadata": {},
   "outputs": [
    {
     "name": "stdout",
     "output_type": "stream",
     "text": [
      "Enter ingredient 1 (or 'stop' to finish): chicken breast\n",
      "Enter ingredient 2 (or 'stop' to finish): pepper\n",
      "Enter ingredient 3 (or 'stop' to finish): salt\n",
      "Enter ingredient 4 (or 'stop' to finish): oil\n",
      "Enter ingredient 5 (or 'stop' to finish): garlic\n",
      "Enter ingredient 6 (or 'stop' to finish): paprika\n",
      "Enter ingredient 7 (or 'stop' to finish): onion\n",
      "Enter ingredient 8 (or 'stop' to finish): brocolli\n",
      "Enter ingredient 9 (or 'stop' to finish): stop\n"
     ]
    },
    {
     "data": {
      "text/plain": [
       "'<RECIPE_START> <INPUT_START> chicken breast <NEXT_INPUT> pepper <NEXT_INPUT> salt <NEXT_INPUT> oil <NEXT_INPUT> garlic <NEXT_INPUT> paprika <NEXT_INPUT> onion <NEXT_INPUT> brocolli <INPUT_END><INGR_START>'"
      ]
     },
     "execution_count": 180,
     "metadata": {},
     "output_type": "execute_result"
    }
   ],
   "source": [
    "def prepare_input_text(ingredients_list):\n",
    "    # Check the number of ingredients and handle more than 10\n",
    "    if len(ingredients_list) > 10:\n",
    "        ingredients_list = ingredients_list[:10]  # Truncate to the first 10 ingredients\n",
    "\n",
    "    input_text = \"<INPUT_START>\"\n",
    "    for ingredient in ingredients_list:\n",
    "        input_text += f\" {ingredient} <NEXT_INPUT>\"\n",
    "    input_text = input_text.rstrip(\" <NEXT_INPUT>\")  # Remove the last <NEXT_INPUT>\n",
    "    input_text += \" <INPUT_END><INGR_START>\"  # Add the <INPUT_END><INSTR_START> tokens \n",
    "    return input_text\n",
    "\n",
    "def input_ingredients():\n",
    "    ingredients_list = []\n",
    "\n",
    "    # Prompt the user for up to 10 ingredients\n",
    "    for i in range(10):\n",
    "        ingredient = input(f\"Enter ingredient {i+1} (or 'stop' to finish): \").strip()\n",
    "        if ingredient.lower() == 'stop':\n",
    "            break\n",
    "        ingredients_list.append(ingredient)\n",
    "\n",
    "    # Call the previously defined prepare_input_text function with the list of ingredients\n",
    "    return prepare_input_text(ingredients_list)\n",
    "\n",
    "# Test the function by calling it\n",
    "# You can enter up to 10 ingredients or type 'stop' to finish earlier\n",
    "test_input = input_ingredients()\n",
    "test_input"
   ]
  },
  {
   "cell_type": "markdown",
   "id": "1698fbb6",
   "metadata": {},
   "source": [
    "temperature (float): Temperature controls the randomness of the generation. A higher temperature (e.g., 1.0) makes the output more random, while a lower temperature (e.g., 0.2) makes the output more deterministic and focused. Adjust this parameter based on the desired level of creativity in the generated text.\n",
    "\n",
    "no_repeat_ngram_size (int): This parameter prevents the model from repeating n-grams in the generated text. For example, setting it to 3 ensures that no three consecutive words are repeated.\n",
    "\n",
    "early_stopping (bool): If set to True, generation will stop when the model predicts the end of the sequence (based on eos_token_id)."
   ]
  },
  {
   "cell_type": "markdown",
   "id": "8cff356c",
   "metadata": {},
   "source": [
    "# Generate the recipe"
   ]
  },
  {
   "cell_type": "code",
   "execution_count": 181,
   "id": "6f67bd32",
   "metadata": {},
   "outputs": [
    {
     "data": {
      "text/plain": [
       "\"<RECIPE_START> <INPUT_START> chicken breast <NEXT_INPUT> pepper <NEXT_INPUT> salt <NEXT_INPUT> oil <NEXT_INPUT> garlic <NEXT_INPUT> paprika <NEXT_INPUT> onion <NEXT_INPUT> brocolli <INPUT_END><INGR_START>1 lb chicken breast, cut into bite sized pieces<NEXT_INGR>1/2 teaspoon pepper<NEXT_INGR>1 teaspoon salt<NEXT_INGR>1 tablespoon oil<NEXT_INGR>1 garlic clove, minced<NEXT_INGR>1 dash paprika<NEXT_INGR>1 onion, chopped<NEXT_INGR>1 lb brocollis, cut in half lengthwise and cut into 1/2 inch pieces<NEXT_INGR>2 cups frozen chopped spinach<INGR_END><INSTR_START>In a large skillet, brown chicken in oil over medium heat.<NEXT_INSTR>Add garlic and seasonings.<NEXT_INSTR>Cook until chicken is no longer pink.<NEXT_INSTR>Remove chicken from skillet and set aside.<NEXT_INSTR>In the same skillet, saute onion in oil until tender.<NEXT_INSTR>Stir in spinach.<NEXT_INSTR>Cover and cook over low heat for 5 minutes.<NEXT_INSTR>Serve over rice.<INSTR_END><TITLE_START>Chicken With Spinach And Brocolli<TITLE_END>by Nancy'S Favorite Slow Cooker<TITLE_END>Slow Cooker Slow Cookers<TITLE_END><TITLE_END>Slow-Cooker Chicken And Spinach<TITLE_END>Slowcooker<TITLE_END>by Linda'S Easy Slow Cooked Slow Cooking<TITLE_END>by Kristi'S Slow Cookered Slow CookER<TITLE_END>Slowly Cooker Chicken and Spinach Recipe<TITLE_END>Slow cooker Slow-Cookers<TITLE_END>Slow cooker<TITLE_END>Slow cooked spaghetti<TITLE_END>Slow cooking spaghetti<TITLE_END>Easy Slow-cooker version<TITLE_END>Slow, easy Slow-cooked spaghetti<TITLE_END>Creamy Slow Cookery<TITLE_END>Slow and Healthy Healthy Healthy Slow Cook Recipe<TITLE_END>Crock Pot Slow Cookeria<TITLE_END>Slow & Healthy Slow-Calorie<TITLE_END>Cheddar Cheese Soup<TITLE_END>Slow browned spaghetti<INGR_END><INSTR_START>1.<NEXT_INSTR>Heat oven to 350 degrees.<NEXT_INSTR>2.<NEXT_INSTR>Place chicken in a 9x13 baking dish.<NEXT_INSTR>3.<NEXT_INSTR>Sprinkle with cheese.<NEXT_INSTR>4.<NEXT_INSTR>Bake for 30 minutes.<INSTR_END><INSTR_END><TITLE_START>Slow Cooked Chicken and Spaghetti<TITLE_END>Slow Calorie-Free<TITLE_END>Cottage Cheese Soup Recipe<TITLE_END>1.<INSTR_END><NEXT_INSTR>Slow Cookers Slow Cook Chicken and Slow Cookeri<TITLE_END>1 cup Slow Cookering Soup<TITLE_END>1 (10 ounce) package frozen chopped broccoli<INGR_END><INSTR_START>Cook and stir broccoli in a large saucepan until tender, about 5 minutes; drain.<NEXT_INSTR>Combine soup, broth, and broccoli in slow cooker.<NEXT_INSTR>Pour over chicken and vegetables.<NEXT_INSTR>Top with shredded cheese.<INSTR_END><INSTR_START>Slow Cookered Chicken and Brocollis<TITLE_END>Slow Cottage Cheese<TITLE_END>1/3 cup Slow-Crockpot Soup<TITLE_END>2.<INSTR_END><TITLE_END>Slow Roasted Chicken and Vegetables<TITLE_END>1 Slow Cook\""
      ]
     },
     "execution_count": 181,
     "metadata": {},
     "output_type": "execute_result"
    }
   ],
   "source": [
    "# Tokenize the input\n",
    "input_sequence = tokenizer_hug.encode(test_input, return_tensors=\"pt\")\n",
    "\n",
    "# Generate the subsequent tokens using the model\n",
    "generated_sequence = model_hug.generate(input_sequence, max_length=512, num_return_sequences=1, temperature=0.7,\n",
    "                                        no_repeat_ngram_size=3, pad_token_id=50266) # token_id 50266 is <RECIPE_END>\n",
    "\n",
    "# doing greedy search num_return_sequences must be 1\n",
    "\n",
    "# Decode and display\n",
    "generated_recipe = tokenizer_hug.decode(generated_sequence[0]) # Do not skip_special_tokens will use for post-processing\n",
    "generated_recipe"
   ]
  },
  {
   "cell_type": "code",
   "execution_count": 167,
   "id": "29df94ce",
   "metadata": {},
   "outputs": [],
   "source": [
    "user_ingredients = generated_recipe.split(\"<INPUT_START>\")[1].split(\"<INPUT_END>\")[0].replace(\"<NEXT_INPUT>\", \", \").strip()\n",
    "recipe_ingredients = generated_recipe.split(\"<INGR_START>\")[1].split(\"<INGR_END>\")[0].replace(\"<NEXT_INGR>\", \"\\n\").strip()\n",
    "instructions = generated_recipe.split(\"<INSTR_START>\")[1].split(\"<INSTR_END>\")[0].replace(\"<NEXT_INSTR>\", \"\\n\").strip()\n",
    "title = generated_recipe.split(\"<TITLE_START>\")[1].split(\"<TITLE_END>\")[0].strip()\n"
   ]
  },
  {
   "cell_type": "markdown",
   "id": "6892527a",
   "metadata": {},
   "source": [
    "Interestingly, some generated recipes, the model will produce an additonal ingredient not stated in the input if max input is not entered."
   ]
  },
  {
   "cell_type": "markdown",
   "id": "200ff0ca",
   "metadata": {},
   "source": [
    "# Use Fairprice online shopping prices to compile total cost\n",
    "\n",
    "    - Format the recipe to a more user friendly style"
   ]
  },
  {
   "cell_type": "code",
   "execution_count": 168,
   "id": "60cfac3e",
   "metadata": {},
   "outputs": [],
   "source": [
    "fairprice_online = pd.read_csv('fairprice shopping list.csv')"
   ]
  },
  {
   "cell_type": "code",
   "execution_count": 169,
   "id": "90bc81e7",
   "metadata": {},
   "outputs": [
    {
     "data": {
      "text/html": [
       "<div>\n",
       "<style scoped>\n",
       "    .dataframe tbody tr th:only-of-type {\n",
       "        vertical-align: middle;\n",
       "    }\n",
       "\n",
       "    .dataframe tbody tr th {\n",
       "        vertical-align: top;\n",
       "    }\n",
       "\n",
       "    .dataframe thead th {\n",
       "        text-align: right;\n",
       "    }\n",
       "</style>\n",
       "<table border=\"1\" class=\"dataframe\">\n",
       "  <thead>\n",
       "    <tr style=\"text-align: right;\">\n",
       "      <th></th>\n",
       "      <th>Ingredient</th>\n",
       "      <th>Name</th>\n",
       "      <th>Price</th>\n",
       "      <th>Quantity</th>\n",
       "    </tr>\n",
       "  </thead>\n",
       "  <tbody>\n",
       "    <tr>\n",
       "      <th>0</th>\n",
       "      <td>salt</td>\n",
       "      <td>FairPrice Salt - Fine</td>\n",
       "      <td>0.25</td>\n",
       "      <td>250g</td>\n",
       "    </tr>\n",
       "    <tr>\n",
       "      <th>1</th>\n",
       "      <td>chicken</td>\n",
       "      <td>Sadia Frozen Whole Chicken Griller</td>\n",
       "      <td>5.40</td>\n",
       "      <td>800g</td>\n",
       "    </tr>\n",
       "    <tr>\n",
       "      <th>2</th>\n",
       "      <td>garlic</td>\n",
       "      <td>Chef China Old Garlic</td>\n",
       "      <td>1.90</td>\n",
       "      <td>200g</td>\n",
       "    </tr>\n",
       "    <tr>\n",
       "      <th>3</th>\n",
       "      <td>onion</td>\n",
       "      <td>Chef Yellow Onion - Large</td>\n",
       "      <td>1.93</td>\n",
       "      <td>700g</td>\n",
       "    </tr>\n",
       "    <tr>\n",
       "      <th>4</th>\n",
       "      <td>chicken broth</td>\n",
       "      <td>Heinz Packet Broth - Chicken</td>\n",
       "      <td>1.65</td>\n",
       "      <td>250ml</td>\n",
       "    </tr>\n",
       "  </tbody>\n",
       "</table>\n",
       "</div>"
      ],
      "text/plain": [
       "      Ingredient                                Name  Price Quantity\n",
       "0           salt               FairPrice Salt - Fine   0.25     250g\n",
       "1        chicken  Sadia Frozen Whole Chicken Griller   5.40     800g\n",
       "2         garlic               Chef China Old Garlic   1.90     200g\n",
       "3          onion           Chef Yellow Onion - Large   1.93     700g\n",
       "4  chicken broth        Heinz Packet Broth - Chicken   1.65    250ml"
      ]
     },
     "execution_count": 169,
     "metadata": {},
     "output_type": "execute_result"
    }
   ],
   "source": [
    "fairprice_online.head()"
   ]
  },
  {
   "cell_type": "code",
   "execution_count": 170,
   "id": "aff81429",
   "metadata": {},
   "outputs": [
    {
     "data": {
      "text/plain": [
       "Ingredient     object\n",
       "Name           object\n",
       "Price         float64\n",
       "Quantity       object\n",
       "dtype: object"
      ]
     },
     "execution_count": 170,
     "metadata": {},
     "output_type": "execute_result"
    }
   ],
   "source": [
    "fairprice_online.dtypes"
   ]
  },
  {
   "cell_type": "code",
   "execution_count": 171,
   "id": "7c2e6ad4",
   "metadata": {},
   "outputs": [],
   "source": [
    "fairprice_online['Price'] = fairprice_online['Price'].astype('float')"
   ]
  },
  {
   "cell_type": "code",
   "execution_count": 172,
   "id": "ce37edef",
   "metadata": {},
   "outputs": [
    {
     "data": {
      "text/plain": [
       "'chicken breast ,  pepper ,  salt ,  oil ,  garlic ,  paprika ,  onion ,  brocolli'"
      ]
     },
     "execution_count": 172,
     "metadata": {},
     "output_type": "execute_result"
    }
   ],
   "source": [
    "user_ingredients"
   ]
  },
  {
   "cell_type": "markdown",
   "id": "1b55be24",
   "metadata": {},
   "source": [
    "# Creating Recipe sheet"
   ]
  },
  {
   "cell_type": "code",
   "execution_count": 173,
   "id": "58e1232d",
   "metadata": {},
   "outputs": [],
   "source": [
    "ingredient_list = [ingredient.strip() for ingredient in user_ingredients.split(',')]"
   ]
  },
  {
   "cell_type": "code",
   "execution_count": 174,
   "id": "9be3d6f1",
   "metadata": {},
   "outputs": [
    {
     "data": {
      "text/plain": [
       "['chicken breast',\n",
       " 'pepper',\n",
       " 'salt',\n",
       " 'oil',\n",
       " 'garlic',\n",
       " 'paprika',\n",
       " 'onion',\n",
       " 'brocolli']"
      ]
     },
     "execution_count": 174,
     "metadata": {},
     "output_type": "execute_result"
    }
   ],
   "source": [
    "ingredient_list"
   ]
  },
  {
   "cell_type": "code",
   "execution_count": 175,
   "id": "497f57af",
   "metadata": {},
   "outputs": [],
   "source": [
    "matching_ingredients = fairprice_online[fairprice_online['Ingredient'].isin(ingredient_list)]"
   ]
  },
  {
   "cell_type": "code",
   "execution_count": 176,
   "id": "97f0275d",
   "metadata": {},
   "outputs": [
    {
     "name": "stdout",
     "output_type": "stream",
     "text": [
      "Ingredient: FairPrice Salt - Fine, Price: 0.25\n",
      "Ingredient: Chef China Old Garlic, Price: 1.9\n",
      "Ingredient: Chef Yellow Onion - Large, Price: 1.93\n",
      "Ingredient: Sadia Skinless Chicken Breast, Price: 8.23\n",
      "Ingredient: GWS Black Pepper Ground (Bottle), Price: 6.0\n",
      "Ingredient: MasterFoods Spices - Paprika Ground, Price: 4.44\n",
      "\n",
      "Total price: $22.75\n"
     ]
    }
   ],
   "source": [
    "for index, row in matching_ingredients.iterrows():\n",
    "    print(f'Ingredient: {row[\"Name\"]}, Price: {row[\"Price\"]}')\n",
    "    \n",
    "print()\n",
    "\n",
    "total_price = matching_ingredients['Price'].sum()\n",
    "print(f'Total price: ${round(total_price, 2)}')"
   ]
  },
  {
   "cell_type": "code",
   "execution_count": 177,
   "id": "48cdd5e2",
   "metadata": {},
   "outputs": [],
   "source": [
    "def recipe_sheet(generated_recipe):\n",
    "    user_ingredients = generated_recipe.split(\"<INPUT_START>\")[1].split(\"<INPUT_END>\")[0].replace(\"<NEXT_INPUT>\", \", \").strip()\n",
    "    recipe_ingredients = generated_recipe.split(\"<INGR_START>\")[1].split(\"<INGR_END>\")[0].replace(\"<NEXT_INGR>\", \"\\n\").strip()\n",
    "    instructions = generated_recipe.split(\"<INSTR_START>\")[1].split(\"<INSTR_END>\")[0].replace(\"<NEXT_INSTR>\", \"\\n\").strip()\n",
    "    title = generated_recipe.split(\"<TITLE_START>\")[1].split(\"<TITLE_END>\")[0].strip()\n",
    "    \n",
    "    print(title)\n",
    "    print('')\n",
    "    print('Input')\n",
    "    print(user_ingredients)\n",
    "    print('')\n",
    "    print('Ingredients')\n",
    "    print(recipe_ingredients)\n",
    "    print('')\n",
    "    print('Directions')\n",
    "    print(instructions)\n",
    "    \n",
    "    print('-' * 100)\n",
    "    \n",
    "    for index, row in matching_ingredients.iterrows():\n",
    "        print(f'Ingredient: {row[\"Name\"]}, Price: {row[\"Price\"]}')\n",
    "    \n",
    "    print()\n",
    "\n",
    "    total_price = matching_ingredients['Price'].sum()\n",
    "    print(f'Total price: ${round(total_price, 2)}')"
   ]
  },
  {
   "cell_type": "code",
   "execution_count": 178,
   "id": "d14ce609",
   "metadata": {},
   "outputs": [
    {
     "name": "stdout",
     "output_type": "stream",
     "text": [
      "Chicken With Brocolli And Onions\n",
      "\n",
      "Input\n",
      "chicken breast ,  pepper ,  salt ,  oil ,  garlic ,  paprika ,  onion ,  brocolli\n",
      "\n",
      "Ingredients\n",
      "1 lb chicken breast\n",
      "1/2 tsp pepper\n",
      "1 tsp salt\n",
      "1 tbsp oil\n",
      "1 garlic clove\n",
      "1 1/2 tbsp paprika\n",
      "1 None onion, finely chopped\n",
      "1 lb brocollini, cut into 1 inch pieces\n",
      "None None Poultry seasoning\n",
      "\n",
      "Directions\n",
      "Preheat oven to 400°F. Line a baking tray with parchment paper.\n",
      "Sprinkle chicken with pepper and salt. Heat oil in a large frying pan over medium heat. Cook chicken, turning once, until browned all over and cooked through, about 5 mins. Transfer to a plate.\n",
      "Add garlic and onion to pan and cook, stirring, until fragrant, about 1 min. Add brocollis and cook until crisp-tender, about 3 mins. Add paprika and cook for 1 min, stirring.\n",
      "Stir in onion and cook 1 min more. Add chicken and cook 2 mins, until cooked through.\n",
      "Transfer to serving platter. Top with chicken and serve.\n",
      "----------------------------------------------------------------------------------------------------\n",
      "Ingredient: FairPrice Salt - Fine, Price: 0.25\n",
      "Ingredient: Chef China Old Garlic, Price: 1.9\n",
      "Ingredient: Chef Yellow Onion - Large, Price: 1.93\n",
      "Ingredient: Sadia Skinless Chicken Breast, Price: 8.23\n",
      "Ingredient: GWS Black Pepper Ground (Bottle), Price: 6.0\n",
      "Ingredient: MasterFoods Spices - Paprika Ground, Price: 4.44\n",
      "\n",
      "Total price: $22.75\n"
     ]
    }
   ],
   "source": [
    "recipe_sheet(generated_recipe)"
   ]
  },
  {
   "cell_type": "markdown",
   "id": "a9951d8d",
   "metadata": {},
   "source": [
    "# Additonal Information "
   ]
  },
  {
   "cell_type": "markdown",
   "id": "930a115f",
   "metadata": {},
   "source": [
    "# Evaluation of Generated Recipes and Standards using Same Ingredients (NER)\n",
    "\n",
    "    - Using new model with no duplicated titles\n",
    "    - Extra work not presented"
   ]
  },
  {
   "cell_type": "code",
   "execution_count": null,
   "id": "c14efa56",
   "metadata": {},
   "outputs": [],
   "source": [
    "from transformers import AutoTokenizer, AutoModelForCausalLM\n",
    "\n",
    "tokenizer_new = AutoTokenizer.from_pretrained(\"JunF1122/gpt2_finetuned_new_10000recipe_chicken\")\n",
    "model_new = AutoModelForCausalLM.from_pretrained(\"JunF1122/gpt2_finetuned_new_10000recipe_chicken\")"
   ]
  },
  {
   "cell_type": "code",
   "execution_count": null,
   "id": "9a5d3e72",
   "metadata": {},
   "outputs": [],
   "source": [
    "def prepare_input_text(ingredients_list):\n",
    "    # Check the number of ingredients and handle more than 10\n",
    "    if len(ingredients_list) > 10:\n",
    "        ingredients_list = ingredients_list[:10]  # Truncate to the first 10 ingredients\n",
    "\n",
    "    input_text = \"<RECIPE_START> <INPUT_START>\"\n",
    "    for ingredient in ingredients_list:\n",
    "        input_text += f\" {ingredient} <NEXT_INPUT>\"\n",
    "    input_text = input_text.rstrip(\" <NEXT_INPUT>\")  # Remove the last <NEXT_INPUT>\n",
    "    input_text += \" <INPUT_END><INGR_START>\"  # Add the <INPUT_END><INSTR_START> tokens \n",
    "    return input_text\n",
    "\n",
    "def input_ingredients():\n",
    "    ingredients_list = []\n",
    "\n",
    "    # Prompt the user for up to 10 ingredients\n",
    "    for i in range(10):\n",
    "        ingredient = input(f\"Enter ingredient {i+1} (or 'stop' to finish): \").strip()\n",
    "        if ingredient.lower() == 'stop':\n",
    "            break\n",
    "        ingredients_list.append(ingredient)\n",
    "\n",
    "    # Call the previously defined prepare_input_text function with the list of ingredients\n",
    "    return prepare_input_text(ingredients_list)\n",
    "\n",
    "# Test the function by calling it\n",
    "# You can enter up to 10 ingredients or type 'stop' to finish earlier\n",
    "test_input = input_ingredients()\n",
    "test_input"
   ]
  },
  {
   "cell_type": "code",
   "execution_count": null,
   "id": "fa46d7be",
   "metadata": {},
   "outputs": [],
   "source": [
    "# Tokenize the input\n",
    "input_sequence = tokenizer_hug.encode(test_input, return_tensors=\"pt\")\n",
    "\n",
    "# Generate the subsequent tokens using the model\n",
    "generated_sequence = model_hug.generate(input_sequence, max_length=512, num_return_sequences=1, temperature=0.7,\n",
    "                                        no_repeat_ngram_size=3, pad_token_id=50266) # token_id 50266 is <RECIPE_END>\n",
    "\n",
    "# doing greedy search num_return_sequences must be 1\n",
    "\n",
    "# Decode and display\n",
    "generated_recipe = tokenizer_hug.decode(generated_sequence[0]) # Do not skip_special_tokens will use for post-processing\n",
    "generated_recipe"
   ]
  },
  {
   "cell_type": "code",
   "execution_count": 109,
   "id": "458a0e0f",
   "metadata": {},
   "outputs": [],
   "source": [
    "recipe_1 = generated_recipe_1.split(\"<TITLE_END>\")[0] + \"<TITLE_END>\""
   ]
  },
  {
   "cell_type": "code",
   "execution_count": 114,
   "id": "5349f309",
   "metadata": {},
   "outputs": [],
   "source": [
    "recipe_2 = generated_recipe_2.split(\"<TITLE_END>\")[0] + \"<TITLE_END>\""
   ]
  },
  {
   "cell_type": "code",
   "execution_count": 120,
   "id": "0746a898",
   "metadata": {},
   "outputs": [],
   "source": [
    "recipe_3 = generated_recipe_3.split(\"<TITLE_END>\")[0] + \"<TITLE_END>\""
   ]
  },
  {
   "cell_type": "code",
   "execution_count": 124,
   "id": "b0026a07",
   "metadata": {},
   "outputs": [],
   "source": [
    "recipe_4 = generated_recipe_4.split(\"<TITLE_END>\")[0] + \"<TITLE_END>\""
   ]
  },
  {
   "cell_type": "code",
   "execution_count": 130,
   "id": "8c1cb3e9",
   "metadata": {},
   "outputs": [],
   "source": [
    "recipe_5 = generated_recipe_5.split(\"<TITLE_END>\")[0] + \"<TITLE_END>\""
   ]
  },
  {
   "cell_type": "code",
   "execution_count": 131,
   "id": "a45689b8",
   "metadata": {
    "scrolled": true
   },
   "outputs": [
    {
     "data": {
      "text/plain": [
       "'<RECIPE_START> <INPUT_START> peene <NEXT_INPUT> chicken breasts <NEXT_INPUT> mustard <NEXT_INPUT> breadcrumbs <NEXT_INPUT> butter <NEXT_INPUT> onion <NEXT_INPUT> clove garlic <NEXT_INPUT> frozen spinach <NEXT_INPUT> cherry tomatoes <NEXT_INPUT> nutmeg <INPUT_END><INGR_START>1/2 cup peene or other shortening<NEXT_INGR>4 chicken breasts, skinned, boned and halved<NEXT_INGR>1/4 cup mustard<NEXT_INGR>1 cup breadcrumb<NEXT_INGR>1 tablespoon butter<NEXT_INGR>1 onion, chopped<NEXT_INGR>1 clove minced garlic<NEXT_INGR>1 (10 ounce) package frozen spinach, thawed and squeezed dry<NEXT_INGR>1 1/2 cups cherry tomatoes, halved and seeded<NEXT_INGR>1 teaspoon nutmeg<NEXT_INGR>1 -2 tablespoon grated Parmesan<INGR_END><INSTR_START>Preheat oven to 350 degrees F.<NEXT_INSTR>In a large bowl, combine peene, chicken, mustard, breadcrust, butter, onion, garlic, spinach, tomatoes, nutmeg, and grated cheese.<NEXT_INSTR>Spoon mixture into a greased 13x9-in. baking dish.<NEXT_INSTR>Bake, uncovered, for 30 minutes or until chicken is no longer pink.<NEXT_INSTR>Serve with Parmesan.<INSTR_END><TITLE_START>Chicken With Spinach And Cherry Tomatoes<TITLE_END>'"
      ]
     },
     "execution_count": 131,
     "metadata": {},
     "output_type": "execute_result"
    }
   ],
   "source": [
    "recipe_5"
   ]
  },
  {
   "cell_type": "code",
   "execution_count": 136,
   "id": "20a13662",
   "metadata": {},
   "outputs": [],
   "source": [
    "lst_gen = [recipe_1, recipe_2, recipe_3, recipe_4, recipe_5]"
   ]
  },
  {
   "cell_type": "code",
   "execution_count": 142,
   "id": "89df9b0e",
   "metadata": {},
   "outputs": [
    {
     "data": {
      "text/plain": [
       "['<RECIPE_START> <INPUT_START> chicken breasts <NEXT_INPUT> sugar <NEXT_INPUT> soy sauce <NEXT_INPUT> cider vinegar <NEXT_INPUT> garlic <NEXT_INPUT> salt <INPUT_END><INGR_START>4 chicken breasts<NEXT_INGR>1/2 cup sugar<NEXT_INGR>1 tablespoon soy sauce<NEXT_INGR>1 teaspoon cider vinegar<NEXT_INGR>1 garlic clove, minced<NEXT_INGR>1 pinch salt<NEXT_INGR>1 cup shredded lettuce<INGR_END><INSTR_START>Preheat oven to 350 degrees.<NEXT_INSTR>Place chicken breasts in a baking dish.<NEXT_INSTR>Combine sugar, soy sauce, vinegar, garlic, salt and vinegar.<NEXT_INSTR>Pour over chicken.<NEXT_INSTR>Cover and bake for 30 minutes.<NEXT_INSTR>Remove chicken from oven and let stand for 5 minutes before serving.<INSTR_END><TITLE_START>Chicken Lettuce Salad<TITLE_END>',\n",
       " '<RECIPE_START> <INPUT_START> chicken breasts <NEXT_INPUT> sour cream <NEXT_INPUT> bacon <NEXT_INPUT> cream of mushroom soup <INPUT_END><INGR_START>4 chicken breasts<NEXT_INGR>1 c. sour cream<NEXT_INGR>1/2 c. bacon<NEXT_INGR>1 can cream of mushrooms soup<NEXT_INGR>1 pkg. Pepperidge Farm biscuits<INGR_END><INSTR_START>Boil chicken until tender.<NEXT_INSTR>Drain off fat.<NEXT_INSTR>Add sour cream and bacon.<NEXT_INSTR>Mix well.<NEXT_INSTR>Place biscuits on baking sheet.<NEXT_INSTR>Bake at 350° for 1 hour.<INSTR_END><TITLE_START>Baked Chicken Nuggets<TITLE_END>',\n",
       " '<RECIPE_START> <INPUT_START> chicken breasts <NEXT_INPUT> sour cream <NEXT_INPUT> bacon <NEXT_INPUT> cream of mushroom soup <INPUT_END><INGR_START>4 chicken breasts<NEXT_INGR>1 c. sour cream<NEXT_INGR>1/2 c. bacon<NEXT_INGR>1 can cream of mushrooms soup<NEXT_INGR>1 pkg. Pepperidge Farm biscuits<INGR_END><INSTR_START>Boil chicken until tender.<NEXT_INSTR>Drain off fat.<NEXT_INSTR>Add sour cream and bacon.<NEXT_INSTR>Mix well.<NEXT_INSTR>Place biscuits on baking sheet.<NEXT_INSTR>Bake at 350° for 1 hour.<INSTR_END><TITLE_START>Baked Chicken Nuggets<TITLE_END>',\n",
       " '<RECIPE_START> <INPUT_START> butter <NEXT_INPUT> onion <NEXT_INPUT> peas <NEXT_INPUT> carrots <NEXT_INPUT> zucchini <NEXT_INPUT> potatoes <NEXT_INPUT> fresh parsley <NEXT_INPUT> flour <NEXT_INPUT> milk <NEXT_INPUT> chicken <INPUT_END><INGR_START>1/2 c. butter<NEXT_INGR>1/4 c. onion, chopped<NEXT_INGR>1 c. peas<NEXT_INGR>1 1/2 lb. carrots, chopped fine<NEXT_INGR>1 lb. zucchinis, sliced<NEXT_INGR>1 (4 oz.) can potatoes, drained<NEXT_INGR>1 Tbsp. fresh parsly<NEXT_INGR>1 tsp. flour<NEXT_INGR>1 can milk<NEXT_INGR>1 chicken bouillon cube<INGR_END><INSTR_START>Melt butter in large saucepan.<NEXT_INSTR>Add onion and peas; cook and stir until tender.<NEXT_INSTR>Stir in carrots, zucchi, potatoes and parsley.<NEXT_INSTR>Cook and stir for 1 minute.<NEXT_INSTR>Pour into greased 9 x 13-inch baking dish.<NEXT_INSTR>Sprinkle with flour.<NEXT_INSTR>Bake at 350° for 30 minutes.<NEXT_INSTR>Serves 4.<INSTR_END><TITLE_START>Potato-Zucchini Casserole<TITLE_END>',\n",
       " '<RECIPE_START> <INPUT_START> peene <NEXT_INPUT> chicken breasts <NEXT_INPUT> mustard <NEXT_INPUT> breadcrumbs <NEXT_INPUT> butter <NEXT_INPUT> onion <NEXT_INPUT> clove garlic <NEXT_INPUT> frozen spinach <NEXT_INPUT> cherry tomatoes <NEXT_INPUT> nutmeg <INPUT_END><INGR_START>1/2 cup peene or other shortening<NEXT_INGR>4 chicken breasts, skinned, boned and halved<NEXT_INGR>1/4 cup mustard<NEXT_INGR>1 cup breadcrumb<NEXT_INGR>1 tablespoon butter<NEXT_INGR>1 onion, chopped<NEXT_INGR>1 clove minced garlic<NEXT_INGR>1 (10 ounce) package frozen spinach, thawed and squeezed dry<NEXT_INGR>1 1/2 cups cherry tomatoes, halved and seeded<NEXT_INGR>1 teaspoon nutmeg<NEXT_INGR>1 -2 tablespoon grated Parmesan<INGR_END><INSTR_START>Preheat oven to 350 degrees F.<NEXT_INSTR>In a large bowl, combine peene, chicken, mustard, breadcrust, butter, onion, garlic, spinach, tomatoes, nutmeg, and grated cheese.<NEXT_INSTR>Spoon mixture into a greased 13x9-in. baking dish.<NEXT_INSTR>Bake, uncovered, for 30 minutes or until chicken is no longer pink.<NEXT_INSTR>Serve with Parmesan.<INSTR_END><TITLE_START>Chicken With Spinach And Cherry Tomatoes<TITLE_END>']"
      ]
     },
     "execution_count": 142,
     "metadata": {},
     "output_type": "execute_result"
    }
   ],
   "source": [
    "lst_gen"
   ]
  },
  {
   "cell_type": "code",
   "execution_count": 140,
   "id": "96d70cac",
   "metadata": {},
   "outputs": [
    {
     "name": "stdout",
     "output_type": "stream",
     "text": [
      "Collecting jiwer\n",
      "  Downloading jiwer-3.0.3-py3-none-any.whl (21 kB)\n",
      "Collecting rapidfuzz<4,>=3\n",
      "  Downloading rapidfuzz-3.3.1-cp310-cp310-win_amd64.whl (1.8 MB)\n",
      "     ---------------------------------------- 1.8/1.8 MB 11.6 MB/s eta 0:00:00\n",
      "Collecting click<9.0.0,>=8.1.3\n",
      "  Downloading click-8.1.7-py3-none-any.whl (97 kB)\n",
      "     ---------------------------------------- 97.9/97.9 kB 5.5 MB/s eta 0:00:00\n",
      "Requirement already satisfied: colorama in c:\\users\\junfe\\anaconda3\\lib\\site-packages (from click<9.0.0,>=8.1.3->jiwer) (0.4.6)\n",
      "Installing collected packages: rapidfuzz, click, jiwer\n",
      "  Attempting uninstall: click\n",
      "    Found existing installation: click 8.0.4\n",
      "    Uninstalling click-8.0.4:\n",
      "      Successfully uninstalled click-8.0.4\n",
      "Successfully installed click-8.1.7 jiwer-3.0.3 rapidfuzz-3.3.1\n"
     ]
    }
   ],
   "source": [
    "!pip install jiwer"
   ]
  },
  {
   "cell_type": "code",
   "execution_count": 141,
   "id": "bb5bb0de",
   "metadata": {},
   "outputs": [],
   "source": [
    "import jiwer"
   ]
  },
  {
   "cell_type": "code",
   "execution_count": 148,
   "id": "ceb49a23",
   "metadata": {},
   "outputs": [],
   "source": [
    "with open('golden standard for comparison.txt', 'r', encoding='utf-8') as f:\n",
    "    standard = f.readlines()\n",
    "    \n",
    "standard = [line.strip().replace('\\n', ' ') for line in standard]"
   ]
  },
  {
   "cell_type": "code",
   "execution_count": 156,
   "id": "aaa97adc",
   "metadata": {},
   "outputs": [],
   "source": [
    "standard_sentences = standard\n",
    "generated_sentences = lst_gen\n",
    "\n",
    "\n",
    "wer_values = []\n",
    "# Iterate through the lists and calculate WER for each pair\n",
    "for reference, data in zip(standard_sentences, generated_sentences):\n",
    "    wer = jiwer.wer(reference, data)\n",
    "    wer_values.append(wer)"
   ]
  },
  {
   "cell_type": "code",
   "execution_count": 162,
   "id": "e98f44ee",
   "metadata": {},
   "outputs": [
    {
     "data": {
      "text/plain": [
       "[0.7674418604651163,\n",
       " 0.8984375,\n",
       " 0.7623762376237624,\n",
       " 0.7655172413793103,\n",
       " 0.803030303030303]"
      ]
     },
     "execution_count": 162,
     "metadata": {},
     "output_type": "execute_result"
    }
   ],
   "source": [
    "wer_values"
   ]
  },
  {
   "cell_type": "code",
   "execution_count": 163,
   "id": "220ecc77",
   "metadata": {},
   "outputs": [
    {
     "name": "stdout",
     "output_type": "stream",
     "text": [
      "Average Word Error Rate: {0.7993606284996984}\n"
     ]
    }
   ],
   "source": [
    "average_wer = sum(wer_values) / len(wer_values)\n",
    "\n",
    "print(f\"Average Word Error Rate:\", {average_wer})\n",
    "\n",
    "# 79.9% difference for generated recipes using the same NERs compared to recipes with the same NERs not in Training data"
   ]
  },
  {
   "cell_type": "raw",
   "id": "25ac9449",
   "metadata": {},
   "source": []
  },
  {
   "cell_type": "markdown",
   "id": "722feaa7",
   "metadata": {},
   "source": [
    "## Original Source\n",
    "    - My post-processing method no longer works well with the original research paper\n",
    "    - May be due to the version incompatibility or even though I had prepared the post-processing in a similar function"
   ]
  },
  {
   "cell_type": "code",
   "execution_count": 151,
   "id": "685f92a8",
   "metadata": {},
   "outputs": [],
   "source": [
    "from transformers import AutoTokenizer, AutoModelWithLMHead\n",
    "tokenizer_nlg = AutoTokenizer.from_pretrained(\"mbien/recipenlg\")\n",
    "model_nlg = AutoModelForCausalLM.from_pretrained(\"mbien/recipenlg\")"
   ]
  },
  {
   "cell_type": "code",
   "execution_count": 280,
   "id": "0a3bc7af",
   "metadata": {},
   "outputs": [
    {
     "name": "stdout",
     "output_type": "stream",
     "text": [
      "Enter ingredient 1 (or 'stop' to finish): chicken\n",
      "Enter ingredient 2 (or 'stop' to finish): red pepper\n",
      "Enter ingredient 3 (or 'stop' to finish): salt\n",
      "Enter ingredient 4 (or 'stop' to finish): garlic\n",
      "Enter ingredient 5 (or 'stop' to finish): thyme\n"
     ]
    },
    {
     "data": {
      "text/plain": [
       "'<INPUT_START> chicken <NEXT_INPUT> red pepper <NEXT_INPUT> salt <NEXT_INPUT> garlic <NEXT_INPUT> thyme <INPUT_END><INGR_START>'"
      ]
     },
     "execution_count": 280,
     "metadata": {},
     "output_type": "execute_result"
    }
   ],
   "source": [
    "def prepare_input_text(ingredients_list):\n",
    "    # Check the number of ingredients and handle more than 10\n",
    "    if len(ingredients_list) > 10:\n",
    "        ingredients_list = ingredients_list[:10]  # Truncate to the first 10 ingredients\n",
    "\n",
    "    input_text = \"<RECIPE_START> <INPUT_START>\"\n",
    "    for ingredient in ingredients_list:\n",
    "        input_text += f\" {ingredient} <NEXT_INPUT>\"\n",
    "    input_text = input_text.rstrip(\" <NEXT_INPUT>\")  # Remove the last <NEXT_INPUT>\n",
    "    input_text += \" <INPUT_END><INGR_START>\"  # Add the <INPUT_END><INSTR_START> tokens \n",
    "    return input_text\n",
    "\n",
    "def input_ingredients():\n",
    "    ingredients_list = []\n",
    "\n",
    "    # Prompt the user for up to 10 ingredients\n",
    "    for i in range(10):\n",
    "        ingredient = input(f\"Enter ingredient {i+1} (or 'stop' to finish): \").strip()\n",
    "        if ingredient.lower() == 'stop':\n",
    "            break\n",
    "        ingredients_list.append(ingredient)\n",
    "\n",
    "    # Call the previously defined prepare_input_text function with the list of ingredients\n",
    "    return prepare_input_text(ingredients_list)\n",
    "\n",
    "# Test the function by calling it\n",
    "# You can enter up to 10 ingredients or type 'stop' to finish earlier\n",
    "test_input = input_ingredients()\n",
    "test_input"
   ]
  },
  {
   "cell_type": "code",
   "execution_count": 281,
   "id": "bc97647a",
   "metadata": {},
   "outputs": [],
   "source": [
    "# Tokenize the input\n",
    "input_sequence = tokenizer_hug.encode(test_input, return_tensors=\"pt\")\n",
    "\n",
    "# Generate the subsequent tokens using the model\n",
    "generated_sequence = model_hug.generate(input_sequence, max_length=512, num_return_sequences=1, temperature=0.7,\n",
    "                                        no_repeat_ngram_size=3, pad_token_id=50266) # token_id 50266 is <RECIPE_END>\n",
    "\n",
    "# doing greedy search num_return_sequences must be 1\n",
    "\n",
    "# Decode and display\n",
    "generated_recipe = tokenizer_hug.decode(generated_sequence[0]) # Do not skip_special_tokens will use for post-processing\n",
    "generated_recipe"
   ]
  },
  {
   "cell_type": "code",
   "execution_count": 282,
   "id": "8dbf2ca3",
   "metadata": {},
   "outputs": [
    {
     "data": {
      "text/plain": [
       "'<INPUT_START> chicken <NEXT_INPUT> red pepper <NEXT_INPUT> salt <NEXT_INPUT> garlic <NEXT_INPUT> thyme <INPUT_END><INGR_START> 1 chicken \\t\\t\\t\\t\\t\\t\\t\\t\\t\\t\\t\\t\\t\\t\\t\\t\\t\\t\\t\\t\\t\\t\\t\\t\\t\\t\\t\\t\\t\\t\\t\\t\\t\\t\\t\\t\\t\\t\\t\\t\\t\\t\\t\\t\\t\\t\\t\\t\\t\\t\\t\\t\\t\\t\\t\\t\\t\\t\\t\\t\\t\\t\\t\\t\\t\\t\\t\\t\\t\\t\\t\\t\\t\\t\\t\\t\\t\\t\\t\\t\\t\\t\\t\\t\\t\\t\\t\\t\\t\\t\\t\\t\\t\\t\\t\\t\\t\\t\\t\\t\\t\\t\\t\\t\\t\\t\\t\\t\\t\\t\\t\\t\\t\\t\\t\\t\\t\\t\\t\\t\\t\\t\\t\\t\\t\\t\\t\\t\\t\\t\\t\\t\\t\\t\\t\\t\\t\\t\\t\\t\\t\\t\\t\\t\\t\\t\\t\\t\\t\\t\\t\\t\\t\\t\\t\\t\\t\\t\\t\\t\\t\\t\\t\\t\\t\\t\\t\\t\\t\\t\\t\\t\\t\\t\\t\\t\\t\\t\\t\\t\\t\\t\\t\\t\\t\\t\\t\\t\\t\\t\\t\\t\\t\\t\\t\\t\\t\\t\\t\\t\\t\\t\\t\\t\\t\\t\\t\\t\\t\\t\\t\\t\\t\\t\\t\\t\\t\\t\\t\\t\\t\\t\\t\\t\\t\\t\\t\\t\\t\\t\\t\\t\\t\\t\\t\\t\\t\\t\\t\\t\\t\\t\\t\\t\\t\\t\\t\\t\\t\\t\\t\\t\\t\\t\\t\\t\\t\\t\\t\\t\\t\\t\\t\\t\\t\\t\\t\\t\\t\\t\\t\\t\\t\\t\\t\\t\\t\\t\\t\\t\\t\\t\\t\\t\\t\\t\\t\\t\\t\\t\\t\\t\\t\\t\\t\\t\\t\\t\\t\\t\\t\\t\\t\\t\\t\\t\\t\\t\\t\\t\\t\\t\\t\\t\\t\\t\\t\\t\\t\\t\\t\\t\\t\\t\\t\\t\\t\\t\\t\\t\\t\\t\\t\\t\\t\\t\\t\\t\\t\\t\\t\\t\\t\\t\\t\\t\\t\\t\\t\\t\\t\\t\\t\\t\\t\\t\\t\\t\\t\\t\\t\\t\\t\\t\\t\\t\\t\\t\\t\\t\\t\\t\\t\\t\\t\\t\\t\\t\\t\\t\\t\\t\\t\\t\\t\\t\\t\\t\\t\\t\\t\\t\\t\\t\\t\\t\\t\\t\\t\\t\\t\\t\\t\\t\\t\\t\\t\\t\\t\\t\\t\\t\\t\\t\\t\\t\\t\\t\\t\\t\\t\\t\\t\\t\\t\\t\\t\\t\\t\\t\\t\\t\\t\\t\\t\\t\\t\\t\\t\\t\\t\\t\\t\\t\\t\\t\\t\\t\\t\\t\\t\\t\\t\\t\\t\\t\\t\\t\\t\\t\\t\\t\\t\\t\\t\\t\\t\\t\\t\\t\\t\\t\\t\\t\\t\\t\\t\\t\\t\\t\\t\\t\\t\\t\\t\\t\\t\\t\\t\\t'"
      ]
     },
     "execution_count": 282,
     "metadata": {},
     "output_type": "execute_result"
    }
   ],
   "source": [
    "generated_recipe"
   ]
  },
  {
   "cell_type": "code",
   "execution_count": null,
   "id": "e68c3084",
   "metadata": {},
   "outputs": [],
   "source": [
    "user_ingredients = generated_recipe.split(\"<INPUT_START>\")[1].split(\"<INPUT_END>\")[0].replace(\"<NEXT_INPUT>\", \", \").strip()\n",
    "recipe_ingredients = generated_recipe.split(\"<INGR_START>\")[1].split(\"<INGR_END>\")[0].replace(\"<NEXT_INGR>\", \"\\n\").strip()\n",
    "instructions = generated_recipe.split(\"<INSTR_START>\")[1].split(\"<INSTR_END>\")[0].replace(\"<NEXT_INSTR>\", \"\\n\").strip()\n",
    "title = generated_recipe.split(\"<TITLE_START>\")[1].split(\"<TITLE_END>\")[0].strip()\n",
    "\n",
    "user_ingredients, recipe_ingredients, instructions, title"
   ]
  },
  {
   "cell_type": "code",
   "execution_count": null,
   "id": "3937e1c0",
   "metadata": {},
   "outputs": [],
   "source": []
  }
 ],
 "metadata": {
  "kernelspec": {
   "display_name": "Python 3 (ipykernel)",
   "language": "python",
   "name": "python3"
  },
  "language_info": {
   "codemirror_mode": {
    "name": "ipython",
    "version": 3
   },
   "file_extension": ".py",
   "mimetype": "text/x-python",
   "name": "python",
   "nbconvert_exporter": "python",
   "pygments_lexer": "ipython3",
   "version": "3.10.9"
  }
 },
 "nbformat": 4,
 "nbformat_minor": 5
}
